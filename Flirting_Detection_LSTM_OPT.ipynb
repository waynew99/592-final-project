{
  "cells": [
    {
      "cell_type": "markdown",
      "metadata": {
        "id": "view-in-github",
        "colab_type": "text"
      },
      "source": [
        "<a href=\"https://colab.research.google.com/github/waynew99/592-final-project/blob/main/Flirting_Detection_LSTM_OPT.ipynb\" target=\"_parent\"><img src=\"https://colab.research.google.com/assets/colab-badge.svg\" alt=\"Open In Colab\"/></a>"
      ]
    },
    {
      "cell_type": "markdown",
      "metadata": {
        "id": "hYJq23RCXUdh"
      },
      "source": [
        "# Imports & Installations"
      ]
    },
    {
      "cell_type": "code",
      "execution_count": 1,
      "metadata": {
        "colab": {
          "base_uri": "https://localhost:8080/"
        },
        "id": "RTnfBbvzW_a8",
        "outputId": "69591710-b779-4d71-cbfe-91b3744c465c"
      },
      "outputs": [
        {
          "output_type": "stream",
          "name": "stdout",
          "text": [
            "1.25.2\n"
          ]
        }
      ],
      "source": [
        "import numpy as np\n",
        "import tensorflow_datasets as tfds\n",
        "import tensorflow as tf\n",
        "import pandas as pd\n",
        "print(np.__version__)"
      ]
    },
    {
      "cell_type": "code",
      "execution_count": 2,
      "metadata": {
        "colab": {
          "base_uri": "https://localhost:8080/"
        },
        "id": "rydX9lONYSkH",
        "outputId": "ac478092-0b78-4e09-f8ba-2c5613aea1aa"
      },
      "outputs": [
        {
          "output_type": "stream",
          "name": "stdout",
          "text": [
            "Collecting datasets\n",
            "  Downloading datasets-2.18.0-py3-none-any.whl (510 kB)\n",
            "\u001b[2K     \u001b[90m━━━━━━━━━━━━━━━━━━━━━━━━━━━━━━━━━━━━━━━━\u001b[0m \u001b[32m510.5/510.5 kB\u001b[0m \u001b[31m3.0 MB/s\u001b[0m eta \u001b[36m0:00:00\u001b[0m\n",
            "\u001b[?25hRequirement already satisfied: filelock in /usr/local/lib/python3.10/dist-packages (from datasets) (3.13.3)\n",
            "Requirement already satisfied: numpy>=1.17 in /usr/local/lib/python3.10/dist-packages (from datasets) (1.25.2)\n",
            "Requirement already satisfied: pyarrow>=12.0.0 in /usr/local/lib/python3.10/dist-packages (from datasets) (14.0.2)\n",
            "Requirement already satisfied: pyarrow-hotfix in /usr/local/lib/python3.10/dist-packages (from datasets) (0.6)\n",
            "Collecting dill<0.3.9,>=0.3.0 (from datasets)\n",
            "  Downloading dill-0.3.8-py3-none-any.whl (116 kB)\n",
            "\u001b[2K     \u001b[90m━━━━━━━━━━━━━━━━━━━━━━━━━━━━━━━━━━━━━━━━\u001b[0m \u001b[32m116.3/116.3 kB\u001b[0m \u001b[31m10.0 MB/s\u001b[0m eta \u001b[36m0:00:00\u001b[0m\n",
            "\u001b[?25hRequirement already satisfied: pandas in /usr/local/lib/python3.10/dist-packages (from datasets) (2.0.3)\n",
            "Requirement already satisfied: requests>=2.19.0 in /usr/local/lib/python3.10/dist-packages (from datasets) (2.31.0)\n",
            "Requirement already satisfied: tqdm>=4.62.1 in /usr/local/lib/python3.10/dist-packages (from datasets) (4.66.2)\n",
            "Collecting xxhash (from datasets)\n",
            "  Downloading xxhash-3.4.1-cp310-cp310-manylinux_2_17_x86_64.manylinux2014_x86_64.whl (194 kB)\n",
            "\u001b[2K     \u001b[90m━━━━━━━━━━━━━━━━━━━━━━━━━━━━━━━━━━━━━━━━\u001b[0m \u001b[32m194.1/194.1 kB\u001b[0m \u001b[31m11.4 MB/s\u001b[0m eta \u001b[36m0:00:00\u001b[0m\n",
            "\u001b[?25hCollecting multiprocess (from datasets)\n",
            "  Downloading multiprocess-0.70.16-py310-none-any.whl (134 kB)\n",
            "\u001b[2K     \u001b[90m━━━━━━━━━━━━━━━━━━━━━━━━━━━━━━━━━━━━━━━━\u001b[0m \u001b[32m134.8/134.8 kB\u001b[0m \u001b[31m10.8 MB/s\u001b[0m eta \u001b[36m0:00:00\u001b[0m\n",
            "\u001b[?25hRequirement already satisfied: fsspec[http]<=2024.2.0,>=2023.1.0 in /usr/local/lib/python3.10/dist-packages (from datasets) (2023.6.0)\n",
            "Requirement already satisfied: aiohttp in /usr/local/lib/python3.10/dist-packages (from datasets) (3.9.3)\n",
            "Requirement already satisfied: huggingface-hub>=0.19.4 in /usr/local/lib/python3.10/dist-packages (from datasets) (0.20.3)\n",
            "Requirement already satisfied: packaging in /usr/local/lib/python3.10/dist-packages (from datasets) (24.0)\n",
            "Requirement already satisfied: pyyaml>=5.1 in /usr/local/lib/python3.10/dist-packages (from datasets) (6.0.1)\n",
            "Requirement already satisfied: aiosignal>=1.1.2 in /usr/local/lib/python3.10/dist-packages (from aiohttp->datasets) (1.3.1)\n",
            "Requirement already satisfied: attrs>=17.3.0 in /usr/local/lib/python3.10/dist-packages (from aiohttp->datasets) (23.2.0)\n",
            "Requirement already satisfied: frozenlist>=1.1.1 in /usr/local/lib/python3.10/dist-packages (from aiohttp->datasets) (1.4.1)\n",
            "Requirement already satisfied: multidict<7.0,>=4.5 in /usr/local/lib/python3.10/dist-packages (from aiohttp->datasets) (6.0.5)\n",
            "Requirement already satisfied: yarl<2.0,>=1.0 in /usr/local/lib/python3.10/dist-packages (from aiohttp->datasets) (1.9.4)\n",
            "Requirement already satisfied: async-timeout<5.0,>=4.0 in /usr/local/lib/python3.10/dist-packages (from aiohttp->datasets) (4.0.3)\n",
            "Requirement already satisfied: typing-extensions>=3.7.4.3 in /usr/local/lib/python3.10/dist-packages (from huggingface-hub>=0.19.4->datasets) (4.10.0)\n",
            "Requirement already satisfied: charset-normalizer<4,>=2 in /usr/local/lib/python3.10/dist-packages (from requests>=2.19.0->datasets) (3.3.2)\n",
            "Requirement already satisfied: idna<4,>=2.5 in /usr/local/lib/python3.10/dist-packages (from requests>=2.19.0->datasets) (3.6)\n",
            "Requirement already satisfied: urllib3<3,>=1.21.1 in /usr/local/lib/python3.10/dist-packages (from requests>=2.19.0->datasets) (2.0.7)\n",
            "Requirement already satisfied: certifi>=2017.4.17 in /usr/local/lib/python3.10/dist-packages (from requests>=2.19.0->datasets) (2024.2.2)\n",
            "Requirement already satisfied: python-dateutil>=2.8.2 in /usr/local/lib/python3.10/dist-packages (from pandas->datasets) (2.8.2)\n",
            "Requirement already satisfied: pytz>=2020.1 in /usr/local/lib/python3.10/dist-packages (from pandas->datasets) (2023.4)\n",
            "Requirement already satisfied: tzdata>=2022.1 in /usr/local/lib/python3.10/dist-packages (from pandas->datasets) (2024.1)\n",
            "Requirement already satisfied: six>=1.5 in /usr/local/lib/python3.10/dist-packages (from python-dateutil>=2.8.2->pandas->datasets) (1.16.0)\n",
            "Installing collected packages: xxhash, dill, multiprocess, datasets\n",
            "Successfully installed datasets-2.18.0 dill-0.3.8 multiprocess-0.70.16 xxhash-3.4.1\n",
            "Collecting codecarbon\n",
            "  Downloading codecarbon-2.3.4-py3-none-any.whl (181 kB)\n",
            "\u001b[2K     \u001b[90m━━━━━━━━━━━━━━━━━━━━━━━━━━━━━━━━━━━━━━━━\u001b[0m \u001b[32m181.6/181.6 kB\u001b[0m \u001b[31m1.8 MB/s\u001b[0m eta \u001b[36m0:00:00\u001b[0m\n",
            "\u001b[?25hCollecting arrow (from codecarbon)\n",
            "  Downloading arrow-1.3.0-py3-none-any.whl (66 kB)\n",
            "\u001b[2K     \u001b[90m━━━━━━━━━━━━━━━━━━━━━━━━━━━━━━━━━━━━━━━━\u001b[0m \u001b[32m66.4/66.4 kB\u001b[0m \u001b[31m5.9 MB/s\u001b[0m eta \u001b[36m0:00:00\u001b[0m\n",
            "\u001b[?25hRequirement already satisfied: pandas in /usr/local/lib/python3.10/dist-packages (from codecarbon) (2.0.3)\n",
            "Collecting pynvml (from codecarbon)\n",
            "  Downloading pynvml-11.5.0-py3-none-any.whl (53 kB)\n",
            "\u001b[2K     \u001b[90m━━━━━━━━━━━━━━━━━━━━━━━━━━━━━━━━━━━━━━━━\u001b[0m \u001b[32m53.1/53.1 kB\u001b[0m \u001b[31m4.8 MB/s\u001b[0m eta \u001b[36m0:00:00\u001b[0m\n",
            "\u001b[?25hRequirement already satisfied: requests in /usr/local/lib/python3.10/dist-packages (from codecarbon) (2.31.0)\n",
            "Requirement already satisfied: psutil in /usr/local/lib/python3.10/dist-packages (from codecarbon) (5.9.5)\n",
            "Requirement already satisfied: py-cpuinfo in /usr/local/lib/python3.10/dist-packages (from codecarbon) (9.0.0)\n",
            "Collecting rapidfuzz (from codecarbon)\n",
            "  Downloading rapidfuzz-3.8.1-cp310-cp310-manylinux_2_17_x86_64.manylinux2014_x86_64.whl (3.4 MB)\n",
            "\u001b[2K     \u001b[90m━━━━━━━━━━━━━━━━━━━━━━━━━━━━━━━━━━━━━━━━\u001b[0m \u001b[32m3.4/3.4 MB\u001b[0m \u001b[31m15.7 MB/s\u001b[0m eta \u001b[36m0:00:00\u001b[0m\n",
            "\u001b[?25hRequirement already satisfied: click in /usr/local/lib/python3.10/dist-packages (from codecarbon) (8.1.7)\n",
            "Requirement already satisfied: prometheus-client in /usr/local/lib/python3.10/dist-packages (from codecarbon) (0.20.0)\n",
            "Requirement already satisfied: python-dateutil>=2.7.0 in /usr/local/lib/python3.10/dist-packages (from arrow->codecarbon) (2.8.2)\n",
            "Collecting types-python-dateutil>=2.8.10 (from arrow->codecarbon)\n",
            "  Downloading types_python_dateutil-2.9.0.20240316-py3-none-any.whl (9.7 kB)\n",
            "Requirement already satisfied: pytz>=2020.1 in /usr/local/lib/python3.10/dist-packages (from pandas->codecarbon) (2023.4)\n",
            "Requirement already satisfied: tzdata>=2022.1 in /usr/local/lib/python3.10/dist-packages (from pandas->codecarbon) (2024.1)\n",
            "Requirement already satisfied: numpy>=1.21.0 in /usr/local/lib/python3.10/dist-packages (from pandas->codecarbon) (1.25.2)\n",
            "Requirement already satisfied: charset-normalizer<4,>=2 in /usr/local/lib/python3.10/dist-packages (from requests->codecarbon) (3.3.2)\n",
            "Requirement already satisfied: idna<4,>=2.5 in /usr/local/lib/python3.10/dist-packages (from requests->codecarbon) (3.6)\n",
            "Requirement already satisfied: urllib3<3,>=1.21.1 in /usr/local/lib/python3.10/dist-packages (from requests->codecarbon) (2.0.7)\n",
            "Requirement already satisfied: certifi>=2017.4.17 in /usr/local/lib/python3.10/dist-packages (from requests->codecarbon) (2024.2.2)\n",
            "Requirement already satisfied: six>=1.5 in /usr/local/lib/python3.10/dist-packages (from python-dateutil>=2.7.0->arrow->codecarbon) (1.16.0)\n",
            "Installing collected packages: types-python-dateutil, rapidfuzz, pynvml, arrow, codecarbon\n",
            "Successfully installed arrow-1.3.0 codecarbon-2.3.4 pynvml-11.5.0 rapidfuzz-3.8.1 types-python-dateutil-2.9.0.20240316\n"
          ]
        }
      ],
      "source": [
        "! pip install datasets\n",
        "! pip install codecarbon"
      ]
    },
    {
      "cell_type": "markdown",
      "metadata": {
        "id": "EmRgzs9lZdUt"
      },
      "source": [
        "# Load Dataset"
      ]
    },
    {
      "cell_type": "code",
      "execution_count": 3,
      "metadata": {
        "colab": {
          "base_uri": "https://localhost:8080/",
          "height": 365,
          "referenced_widgets": [
            "c9262c2936b84317bb6511c35dd42034",
            "659f574fc3e9430783686db27e5f438e",
            "0c4ffc64e7c54272badc9d7ec4b460b9",
            "6d84c3c4c9e342cfaf56b82940e8466b",
            "8a05e32097914b08a272ce5f8450b964",
            "c2e1419a8a744bb189e7398c50c86cc2",
            "b420e24aabf041aaad509e6cd0be3d96",
            "ae6dae83700f427a9dedc9ab90954e20",
            "223c16f263cf4c27931dc1bef1b2da17",
            "c8a739b3108a4467a799663eabb9b563",
            "53525692342d46d99a344975f84e6118",
            "a72e0ca16653487f9e2258f8be65b9fa",
            "eba292b54ae44d10833de381f3caba83",
            "9c8173f161fd4de5a822076438d5bcae",
            "82deefb988b0439e9065ec4ea8aecad5",
            "9fb2929dfb254ef19fcfc715fbd46e0b",
            "9a554370edd64f4ab6c39d6f31d2ec77",
            "259b1866f02e43e7a3590cf0da39228e",
            "dcdee4ecc9154304bc46be095d98f00f",
            "044597ce05e74e91b7eafa6bb4d72cd6",
            "33b7acf64dfb4d9aa94b14052b497e2a",
            "674713388034481ea6c8a5845c1eeb0a",
            "c76c15f093a14f44933abaf591aea237",
            "a45e27f6f77d44e5ab3fcaf96af3f73a",
            "f6112c21820c4114bb76b9763b9f6337",
            "7f346d259fa542b9a9d73faa85f7e360",
            "6bfccdcbad82413585c1f094c52a731e",
            "350f4bc1def54a38964d9a8348f0c46b",
            "5e7a3aa94b394a748b48eb77dbca865f",
            "4a16355000fe4883b2f457813d25b3b9",
            "12f8d490745d470c972bbfb839c63772",
            "5bf5ab1fbdc043149f87a689e214b2ac",
            "53cdfc8583b54348a4ae5ffe4800e184",
            "2f60c230819b4a2f95c0326b463099e0",
            "08d05acbc3cc418e8c8e09c0085419eb",
            "d4e80eeb3cf840a3b197ce2653746eed",
            "a2261e420d7e48a299bf5385065aea6d",
            "b36a5a57f27443018c64920f61c85704",
            "f961a616afb64b15a2fcfd27a98a51c4",
            "f882d6bce2214b31a399d798c3a80054",
            "1de32c2d1da445f98aa0e065ded8d75d",
            "b49dd710b45b4fa39cb45884a88aa008",
            "ce8fb92b44744ce8a56605801f2f1c84",
            "ac4880b8901a4962a65ee6f8565357e7",
            "16b3c4daf34949d9b852f3c95e59cea1",
            "d9314640306e45fcb218085169c829ac",
            "5bd65980a9784bf782478df16e1a61c7",
            "b2938d1d663c4162be6c397b0e2bb9c5",
            "7a5ffed38bea432abdf7c03deafc663d",
            "8779708861cb40588204c98ea45a0cf3",
            "2937b3f5611d4c9d828bfc91a363243d",
            "3c59d1d347a84637bb63fff75b128f93",
            "40cafd0766644f90ae1392635409281b",
            "9380a6ab42d14fcb8489798ef5336c2d",
            "6e00bb8b4a714282a3fc21c36adb2772",
            "8aa299f935074fa9b68eee78523de518",
            "eef56b02e13f4d08bbfc4a293203c190",
            "436f44873fc647a7b49c3933e6f27b23",
            "2e92367403b1448aa7e391e5a3305905",
            "4509d313ab1947a1bdd462b87336a3cf",
            "4e78bb779065414d923da10c34cbc17f",
            "165f89dc3706417ea46cbf88fd280f5e",
            "0ad4c57d844a48449f47146351edd6ea",
            "63c76ec37cd840eeb676c411eb9bd352",
            "9b5d9ee80e2f4d8488db9a8a8ab1a4ee",
            "d872be9774804f3bac01e9a1cd2a3f48",
            "afb6a49168e449cb934bcf073f887230",
            "8d3e42a15b974615abf7716502fb8372",
            "928e590477034f93afa1cf0721834659",
            "b64bef870ee5449e8c202ace1eb7c589",
            "758341711a1841f59089510864ecc06c",
            "1375dcb01c334f0281368b8e4c35f10e",
            "106e9ccdb0874b9ba4c6c2491220762a",
            "7774affff6224cf19b8c28274c479b7a",
            "b0ed6dea4bd84c9fba57bcf266e987a0",
            "5f5446a6929b45479fffac272dda4521",
            "87408edda9bb45c3b0bb03b4da7da190"
          ]
        },
        "id": "EL-S-2_CXhtH",
        "outputId": "9d224342-e0f5-4dc0-a958-f48696598a7b"
      },
      "outputs": [
        {
          "output_type": "stream",
          "name": "stderr",
          "text": [
            "/usr/local/lib/python3.10/dist-packages/huggingface_hub/utils/_token.py:88: UserWarning: \n",
            "The secret `HF_TOKEN` does not exist in your Colab secrets.\n",
            "To authenticate with the Hugging Face Hub, create a token in your settings tab (https://huggingface.co/settings/tokens), set it as secret in your Google Colab and restart your session.\n",
            "You will be able to reuse this secret in all of your notebooks.\n",
            "Please note that authentication is recommended but still optional to access public models or datasets.\n",
            "  warnings.warn(\n"
          ]
        },
        {
          "output_type": "display_data",
          "data": {
            "text/plain": [
              "Downloading readme:   0%|          | 0.00/610 [00:00<?, ?B/s]"
            ],
            "application/vnd.jupyter.widget-view+json": {
              "version_major": 2,
              "version_minor": 0,
              "model_id": "c9262c2936b84317bb6511c35dd42034"
            }
          },
          "metadata": {}
        },
        {
          "output_type": "display_data",
          "data": {
            "text/plain": [
              "Downloading data:   0%|          | 0.00/68.2k [00:00<?, ?B/s]"
            ],
            "application/vnd.jupyter.widget-view+json": {
              "version_major": 2,
              "version_minor": 0,
              "model_id": "a72e0ca16653487f9e2258f8be65b9fa"
            }
          },
          "metadata": {}
        },
        {
          "output_type": "display_data",
          "data": {
            "text/plain": [
              "Downloading data:   0%|          | 0.00/11.5k [00:00<?, ?B/s]"
            ],
            "application/vnd.jupyter.widget-view+json": {
              "version_major": 2,
              "version_minor": 0,
              "model_id": "c76c15f093a14f44933abaf591aea237"
            }
          },
          "metadata": {}
        },
        {
          "output_type": "display_data",
          "data": {
            "text/plain": [
              "Downloading data:   0%|          | 0.00/15.7k [00:00<?, ?B/s]"
            ],
            "application/vnd.jupyter.widget-view+json": {
              "version_major": 2,
              "version_minor": 0,
              "model_id": "2f60c230819b4a2f95c0326b463099e0"
            }
          },
          "metadata": {}
        },
        {
          "output_type": "display_data",
          "data": {
            "text/plain": [
              "Generating train split:   0%|          | 0/1584 [00:00<?, ? examples/s]"
            ],
            "application/vnd.jupyter.widget-view+json": {
              "version_major": 2,
              "version_minor": 0,
              "model_id": "16b3c4daf34949d9b852f3c95e59cea1"
            }
          },
          "metadata": {}
        },
        {
          "output_type": "display_data",
          "data": {
            "text/plain": [
              "Generating validation split:   0%|          | 0/212 [00:00<?, ? examples/s]"
            ],
            "application/vnd.jupyter.widget-view+json": {
              "version_major": 2,
              "version_minor": 0,
              "model_id": "8aa299f935074fa9b68eee78523de518"
            }
          },
          "metadata": {}
        },
        {
          "output_type": "display_data",
          "data": {
            "text/plain": [
              "Generating test split:   0%|          | 0/318 [00:00<?, ? examples/s]"
            ],
            "application/vnd.jupyter.widget-view+json": {
              "version_major": 2,
              "version_minor": 0,
              "model_id": "afb6a49168e449cb934bcf073f887230"
            }
          },
          "metadata": {}
        }
      ],
      "source": [
        "# Dataset 1 (from hugging face)\n",
        "from datasets import load_dataset, Dataset, concatenate_datasets, ClassLabel, Features\n",
        "from codecarbon import EmissionsTracker\n",
        "dataset = load_dataset(\"ieuniversity/flirty_or_not\")\n",
        "dataset = dataset.remove_columns('id')\n",
        "\n",
        "train_dataset = dataset['train']\n",
        "validation_dataset = dataset['validation']\n",
        "test_dataset = dataset['test']"
      ]
    },
    {
      "cell_type": "code",
      "execution_count": 4,
      "metadata": {
        "colab": {
          "base_uri": "https://localhost:8080/"
        },
        "id": "PZCSdCdCoDTO",
        "outputId": "5ddd0e21-25b3-462d-cd96-269d68b39dca"
      },
      "outputs": [
        {
          "output_type": "stream",
          "name": "stdout",
          "text": [
            "2650\n"
          ]
        }
      ],
      "source": [
        "# Dataset 2 (from local upload)\n",
        "data = pd.read_csv('flirting_rated.csv')\n",
        "data.drop_duplicates(subset=['texts'], inplace=True)\n",
        "data.dropna(subset=['label'], inplace=True)\n",
        "dataset_2 = Dataset.from_pandas(data)\n",
        "print(len(dataset_2))"
      ]
    },
    {
      "cell_type": "code",
      "execution_count": 5,
      "metadata": {
        "colab": {
          "base_uri": "https://localhost:8080/"
        },
        "id": "NWa0Vbl5pVZ8",
        "outputId": "67dbd1a5-cc81-4bd7-d6f6-99ed8c96fe8d"
      },
      "outputs": [
        {
          "output_type": "stream",
          "name": "stdout",
          "text": [
            "2120\n",
            "265\n",
            "265\n",
            "{'label': ClassLabel(names=['neutral', 'flirty'], id=None), 'texts': Value(dtype='string', id=None)}\n",
            "{'label': ClassLabel(names=['neutral', 'flirty'], id=None), 'texts': Value(dtype='string', id=None)}\n"
          ]
        }
      ],
      "source": [
        "split_train_dataset = dataset_2.train_test_split(test_size=0.2)['train']\n",
        "split_valid_dataset = dataset_2.train_test_split(test_size=0.2)['test'].train_test_split(test_size=0.5)['train']\n",
        "split_test_dataset = dataset_2.train_test_split(test_size=0.2)['test'].train_test_split(test_size=0.5)['test']\n",
        "\n",
        "print(len(split_train_dataset))\n",
        "print(len(split_valid_dataset))\n",
        "print(len(split_test_dataset))\n",
        "\n",
        "class_label = ClassLabel(names=['neutral', 'flirty'])\n",
        "\n",
        "# Define features for the dataset\n",
        "features = Features({\n",
        "    'label': class_label,\n",
        "    'texts': split_train_dataset.features['texts']\n",
        "})\n",
        "\n",
        "split_train_dataset = Dataset.from_dict({\n",
        "    'label': split_train_dataset['label'],\n",
        "    'texts': split_train_dataset['texts']\n",
        "}, features=features)\n",
        "\n",
        "split_valid_dataset = Dataset.from_dict({\n",
        "    'label': split_valid_dataset['label'],\n",
        "    'texts': split_valid_dataset['texts']\n",
        "}, features=features)\n",
        "\n",
        "split_test_dataset = Dataset.from_dict({\n",
        "    'label': split_test_dataset['label'],\n",
        "    'texts': split_test_dataset['texts']\n",
        "}, features=features)\n",
        "\n",
        "\n",
        "print(split_train_dataset.features)\n",
        "print(train_dataset.features)\n"
      ]
    },
    {
      "cell_type": "code",
      "execution_count": 6,
      "metadata": {
        "colab": {
          "base_uri": "https://localhost:8080/"
        },
        "id": "UEMaG6bxY_-d",
        "outputId": "b6643134-3c11-4c77-82e3-fcffc2ad07d8"
      },
      "outputs": [
        {
          "output_type": "stream",
          "name": "stdout",
          "text": [
            "0.14968033095148553\n"
          ]
        }
      ],
      "source": [
        "# The second dataset is NOT balanced: Majority is neutral (0)\n",
        "total_flirty = 0\n",
        "for label in split_train_dataset['label']:\n",
        "  if label != 0:\n",
        "    total_flirty += 1\n",
        "\n",
        "for label in split_valid_dataset['label']:\n",
        "  if label != 0:\n",
        "    total_flirty += 1\n",
        "\n",
        "for label in split_test_dataset['label']:\n",
        "  if label != 0:\n",
        "    total_flirty += 1\n",
        "print(total_flirty/2659)"
      ]
    },
    {
      "cell_type": "code",
      "execution_count": 7,
      "metadata": {
        "id": "5B5Hl3_gpuGP"
      },
      "outputs": [],
      "source": [
        "train_dataset_final = concatenate_datasets([split_train_dataset, train_dataset])\n",
        "validation_dataset_final = concatenate_datasets([validation_dataset, split_valid_dataset])\n",
        "test_dataset_final = concatenate_datasets([test_dataset, split_test_dataset])"
      ]
    },
    {
      "cell_type": "code",
      "execution_count": 8,
      "metadata": {
        "colab": {
          "base_uri": "https://localhost:8080/"
        },
        "id": "v4QaZACKDouU",
        "outputId": "2a3eb70f-0f0b-4b74-e30b-a977113b02e4"
      },
      "outputs": [
        {
          "output_type": "stream",
          "name": "stdout",
          "text": [
            "3704 477 583\n"
          ]
        }
      ],
      "source": [
        "TRAIN_SIZE = len(train_dataset_final)\n",
        "VALIDATION_SIZE = len(validation_dataset_final)\n",
        "TEST_SIZE = len(test_dataset_final)\n",
        "print(TRAIN_SIZE, VALIDATION_SIZE, TEST_SIZE)"
      ]
    },
    {
      "cell_type": "code",
      "execution_count": 9,
      "metadata": {
        "colab": {
          "base_uri": "https://localhost:8080/"
        },
        "id": "Z_L4YxA5ciIi",
        "outputId": "04eab79e-5ea7-4e1e-8877-364eb673b5d2"
      },
      "outputs": [
        {
          "output_type": "stream",
          "name": "stdout",
          "text": [
            "Average length of each data instance: 8.3516\n"
          ]
        }
      ],
      "source": [
        "total_length = 0\n",
        "total_samples = 5000\n",
        "\n",
        "for sample in train_dataset_final['texts']:\n",
        "    # print(sample)\n",
        "    # Calculate the length of each data instance\n",
        "    # Assuming each data instance is a dictionary-like object with a 'text' key\n",
        "    words = sample.split()\n",
        "    length = len(words)\n",
        "    total_length += length\n",
        "\n",
        "for sample in validation_dataset_final['texts']:\n",
        "    # print(sample)\n",
        "    # Calculate the length of each data instance\n",
        "    # Assuming each data instance is a dictionary-like object with a 'text' key\n",
        "    words = sample.split()\n",
        "    length = len(words)\n",
        "    total_length += length\n",
        "\n",
        "for sample in test_dataset_final['texts']:\n",
        "    # print(sample)\n",
        "    # Calculate the length of each data instance\n",
        "    # Assuming each data instance is a dictionary-like object with a 'text' key\n",
        "    words = sample.split()\n",
        "    length = len(words)\n",
        "    total_length += length\n",
        "\n",
        "# Compute the average length\n",
        "average_length = total_length / total_samples\n",
        "\n",
        "print(\"Average length of each data instance:\", average_length)"
      ]
    },
    {
      "cell_type": "code",
      "execution_count": 10,
      "metadata": {
        "colab": {
          "base_uri": "https://localhost:8080/"
        },
        "id": "tsIHEwxFXugT",
        "outputId": "ca3ab462-74bf-4c85-d663-e1e9c28db814"
      },
      "outputs": [
        {
          "output_type": "stream",
          "name": "stdout",
          "text": [
            "0.2994060475161987\n",
            "0.31027253668763105\n",
            "0.41509433962264153\n"
          ]
        }
      ],
      "source": [
        "total_flirty = 0\n",
        "for label in train_dataset_final['label']:\n",
        "  total_flirty += label\n",
        "print(total_flirty/TRAIN_SIZE)\n",
        "\n",
        "total_flirty = 0\n",
        "for label in validation_dataset_final['label']:\n",
        "  total_flirty += label\n",
        "print(total_flirty/VALIDATION_SIZE)\n",
        "\n",
        "total_flirty = 0\n",
        "for label in test_dataset_final['label']:\n",
        "  total_flirty += label\n",
        "print(total_flirty/VALIDATION_SIZE)"
      ]
    },
    {
      "cell_type": "markdown",
      "metadata": {
        "id": "BnnB4A4cxSNl"
      },
      "source": [
        "# Preprocess Dataset: Converting Text Data into Vectors/Numbers\n",
        "Models cannot directly process raw text, so we need to convert the text into numbers using TensorFlow's `TextVectorization` layer. Specifically, we can perform the following 3 operations all at once, by constructing this layer and feeding the data into it.\n",
        "\n",
        "* Standardization: preprocessing the text, typically to change all text to lowercase and remove punctuation to simplify the dataset.\n",
        "* Tokenization: dividing text into individual words called tokens.\n",
        "* Vectorization: converting tokens into numbers so they can be fed into a neural network.\n",
        "\n",
        "Constructing the layer is very easy (we simply call the function), but there are some hyperparameters we need to determine first.\n",
        "\n",
        "## TextVectorization\n",
        "First, *maximum vocabulary size* and *maximum sequence length* are 2 hyperparameters defined based on the nature of the dataset and the memory constraints of the machine."
      ]
    },
    {
      "cell_type": "markdown",
      "metadata": {
        "id": "V6P1C6u4zTAw"
      },
      "source": [
        "### Maximum Vocabulary Size (`max_tokens`)\n",
        "\n",
        "This parameter determines the number of unique words that are considered when vectorizing texts. To decide this:\n",
        "\n",
        "*   Tokenize your dataset to find out the total number of unique tokens it contains.\n",
        "*   Evaluate your hardware's memory constraints since a larger vocabulary will require more memory.\n",
        "\n",
        "Typically, a number between 10,000 to 100,000 works well for many tasks, but if your dataset is very specialized, smaller might be enough. Also, it's often best to choose a number that is slightly above the number of unique tokens actually observed in your data to account for uncertainties. However, if the vocabulary size is significantly higher than the actual number of unique tokens, it can lead to increased memory overhead, slower training speed, and most importantly, possibility of overfitting."
      ]
    },
    {
      "cell_type": "code",
      "execution_count": 11,
      "metadata": {
        "id": "BWha4bUlxZn9"
      },
      "outputs": [],
      "source": [
        "# access the text and labels after the dataset is loaded successfully\n",
        "texts = [row['texts'] for row in train_dataset_final]\n",
        "labels = [row['label'] for row in train_dataset_final]"
      ]
    },
    {
      "cell_type": "code",
      "execution_count": 12,
      "metadata": {
        "colab": {
          "base_uri": "https://localhost:8080/"
        },
        "id": "WNS8kNsMx-Vq",
        "outputId": "2bf336c4-594a-4f56-f4ad-84281085ef87"
      },
      "outputs": [
        {
          "output_type": "stream",
          "name": "stdout",
          "text": [
            "Total unique tokens in the raw text: 5432\n"
          ]
        }
      ],
      "source": [
        "# Calculate the number of unique tokens using TensorFlow's tokenizer\n",
        "from collections import Counter\n",
        "\n",
        "# Flatten the list of sentences into a single list of words\n",
        "all_words = [word for text in texts for word in text.split()]\n",
        "\n",
        "# Count the unique words\n",
        "word_count = Counter(all_words)\n",
        "# ~4000 unique words/tokens in the training + validation set\n",
        "print(f\"Total unique tokens in the raw text: {len(word_count)}\")\n",
        "\n",
        "# Thus, probably use about 4000-5000 for token size\n",
        "MAX_FEATURES = 5000  # Size of the vocabulary"
      ]
    },
    {
      "cell_type": "markdown",
      "metadata": {
        "id": "6ph3ylNQzup2"
      },
      "source": [
        "### Maxmimum Sequence Length (`output_sequence_length`)\n",
        "\n",
        "This parameter controls the maximum number of tokens that will be considered in each example. To find a reasonable maximum sequence length:\n",
        "\n",
        "- Calculate the length of each text example in your dataset.\n",
        "- Plot a histogram of these lengths to get a sense of the distribution.\n",
        "- Use this information to decide on a length that covers most of your texts without being excessively long.\n",
        "\n",
        "The `output_sequence_length` parameter is used to pad or truncate sequences to this maximum length. If a text is shorter than this, it will be padded with zeros, and if it's longer, it will be truncated."
      ]
    },
    {
      "cell_type": "code",
      "execution_count": 13,
      "metadata": {
        "colab": {
          "base_uri": "https://localhost:8080/",
          "height": 553
        },
        "id": "fp15Zvlx5jGX",
        "outputId": "2620cb11-be2f-456e-80c1-518d23547e3c"
      },
      "outputs": [
        {
          "output_type": "display_data",
          "data": {
            "text/plain": [
              "<Figure size 640x480 with 1 Axes>"
            ],
            "image/png": "[encoded data removed]"
          },
          "metadata": {}
        },
        {
          "output_type": "stream",
          "name": "stdout",
          "text": [
            "Min: 1.000\n",
            "Q1: 4.000\n",
            "Median: 7.000\n",
            "Q3: 11.000\n",
            "Max: 99.000\n",
            "20\n"
          ]
        }
      ],
      "source": [
        "# Find a reasonable sequence length\n",
        "import matplotlib.pyplot as plt\n",
        "\n",
        "# Calculate the length for each piece of text\n",
        "text_lengths = [len(text.split()) for text in texts]\n",
        "\n",
        "# Plot a histogram\n",
        "plt.hist(text_lengths, bins=50)\n",
        "plt.xlabel('Length of Texts')\n",
        "plt.ylabel('Frequency')\n",
        "plt.show()\n",
        "\n",
        "# 5 number summary showing distribution of lengths\n",
        "# calculate quartiles\n",
        "quartiles = np.percentile(text_lengths, [25, 50, 75])\n",
        "# calculate min/max\n",
        "len_min, len_max = min(text_lengths), max(text_lengths)\n",
        "# print 5-number summary\n",
        "print('Min: %.3f' % len_min)\n",
        "print('Q1: %.3f' % quartiles[0])\n",
        "print('Median: %.3f' % quartiles[1])\n",
        "print('Q3: %.3f' % quartiles[2])\n",
        "print('Max: %.3f' % len_max)\n",
        "\n",
        "# Determine a suitable maximum length (e.g., the 95th percentile could be a good starting point)\n",
        "SEQUENCE_LENGTH = int(np.percentile(text_lengths, 95)) # Length of the input sequences\n",
        "print(SEQUENCE_LENGTH)"
      ]
    },
    {
      "cell_type": "markdown",
      "metadata": {
        "id": "mGNrBjqJ04uD"
      },
      "source": [
        "### Output Mode and Standardization\n",
        "\n",
        "These are 2 more hyperparameters for the `TextVectorization` layer.\n",
        "\n",
        "First, for output mode, we are setting it to `int`. As a result, the layer converts the tokens into integer indices. Each unique token is assigned a specific integer value, and texts are converted into sequences of these integers. In many deep learning models for text based on neural networks, `int` is the preferred option because it works very well with Embedding Layers, which are efficient and powerful mechanisms for handling sequences of tokens.\n",
        "\n",
        "Next, for standardization, we are currently just changing each token into lowercase, a very common standardize function. We are *not* removing punctuation and special characters because there may be special characters (e.g. emojis) that actually contribute to the meaning of the text, so removing them may reduce context.\n",
        "\n",
        "As a side note, we do not need to further define a custome split hyperparameter because splitting by whitespace (default) is sufficient for our case."
      ]
    },
    {
      "cell_type": "code",
      "execution_count": 55,
      "metadata": {
        "id": "iyCnDT5eHRrp"
      },
      "outputs": [],
      "source": [
        "import re\n",
        "import string\n",
        "import keras\n",
        "\n",
        "# @keras.saving.register_keras_serializable()\n",
        "# def custom_standardization(text):\n",
        "#   # Make text lowercase\n",
        "#   text = tf.strings.lower(text)\n",
        "#   # Only remove common punctuation\n",
        "#   # common_punct = r'[,.?!]'\n",
        "#   common_punct = r\"[,.?!\\'\\\"\\<\\>\\{\\}\\[\\]\\^\\&\\\\\\%\\$\\#\\@\\|]\"\n",
        "#   text = tf.strings.regex_replace(text, common_punct, '')\n",
        "#   return text\n",
        "\n",
        "# Define the function that will treat punctuation as tokens?\n",
        "@keras.saving.register_keras_serializable()\n",
        "def custom_standardization(text):\n",
        "  # Make text lowercase\n",
        "  text = tf.strings.lower(text)\n",
        "  # Remove insignificant punctuation from the text\n",
        "  common_punct = r\"[,\\'\\\"\\<\\>\\{\\}\\[\\]\\^\\&\\\\\\%\\$\\#\\@\\|]\"\n",
        "  text = tf.strings.regex_replace(text, common_punct, '')\n",
        "  # Replace punctuations with space + punctuation + space\n",
        "  for punct in string.punctuation:\n",
        "      text = tf.strings.regex_replace(text, re.escape(punct), f\" {punct} \")\n",
        "  # Remove extra spaces\n",
        "  text = tf.strings.strip(text)\n",
        "  text = tf.strings.regex_replace(text, ' +', ' ')\n",
        "  return text"
      ]
    },
    {
      "cell_type": "code",
      "execution_count": 56,
      "metadata": {
        "id": "IZMtWxPf63Fj"
      },
      "outputs": [],
      "source": [
        "# tokenization & vectorization\n",
        "vectorize_layer = tf.keras.layers.TextVectorization(\n",
        "    max_tokens=MAX_FEATURES,\n",
        "    standardize=custom_standardization, # lowercase & remove common punctuation\n",
        "    output_mode='int', # int is preferred mode in modern day DL tasks\n",
        "    output_sequence_length=SEQUENCE_LENGTH)"
      ]
    },
    {
      "cell_type": "code",
      "execution_count": 57,
      "metadata": {
        "colab": {
          "base_uri": "https://localhost:8080/"
        },
        "id": "UKcBZi8p9I0e",
        "outputId": "cf823506-95e9-4ad2-c3b5-70cb7bee3df7"
      },
      "outputs": [
        {
          "output_type": "execute_result",
          "data": {
            "text/plain": [
              "4029"
            ]
          },
          "metadata": {},
          "execution_count": 57
        }
      ],
      "source": [
        "# adapt the TextVectorization layer to text data so that it can build the vocabulary\n",
        "vectorize_layer.adapt(texts)\n",
        "# test\n",
        "len(vectorize_layer.get_vocabulary())"
      ]
    },
    {
      "cell_type": "code",
      "execution_count": 36,
      "metadata": {
        "id": "P05mlYs9Uiot"
      },
      "outputs": [],
      "source": [
        "# # Let's prepare a dataset to illustrate the functionality\n",
        "# example_dataset = tf.data.Dataset.from_tensor_slices([\"Hello!\", \"Hello !\", \"It's a? test 😉?\", \"It's a test :) :(\"])\n",
        "# vectorize_layer.adapt(example_dataset)\n",
        "\n",
        "# print(vectorize_layer.get_vocabulary())\n",
        "\n",
        "# # Example of how the layer will preprocess the data\n",
        "# for example in example_dataset:\n",
        "#     print(\"Original:\", example.numpy())\n",
        "#     vectorized_text = vectorize_layer(example)\n",
        "#     print(\"Vectorized:\", vectorized_text.numpy())"
      ]
    },
    {
      "cell_type": "markdown",
      "metadata": {
        "id": "egW9ZW6e5fWc"
      },
      "source": [
        "## Convert to Tensorflow Dataset (for training)\n",
        "\n",
        "Now, we can convert the raw text data into a form that a TensorFlow machine learning model can understand (i.e., numeric tensors) using the TextVectorization layer, preparing it in batches to be fed into the model for training or inference.\n",
        "\n",
        "We can either (1) do the convertion as part of data preprocessing, or (2) leave it to the LSTM model itself. Option (2) generalizes better if we want to deploy and test the model since it can automatically convert text into numbers without any manual preprocessing, so we are going with this option."
      ]
    },
    {
      "cell_type": "code",
      "execution_count": 39,
      "metadata": {
        "id": "GSx1YxVv7qmV"
      },
      "outputs": [],
      "source": [
        "# another hyperparameter\n",
        "BATCH_SIZE = 32\n",
        "# takes text data (a list of strings) and creates Dataset object\n",
        "# each element of the dataset is one piece of text from your original list\n",
        "text_ds = tf.data.Dataset.from_tensor_slices(texts).batch(BATCH_SIZE)\n",
        "# Turn the texts into sequences of integers [Option 1]\n",
        "# text_int_sequences = text_ds.map(vectorize_layer)\n",
        "# convert corresponding labels to tensorflow format\n",
        "label_ds = tf.data.Dataset.from_tensor_slices(tf.cast(labels, tf.int32)).batch(BATCH_SIZE)"
      ]
    },
    {
      "cell_type": "code",
      "execution_count": 40,
      "metadata": {
        "id": "VK6aKF6vAgN4"
      },
      "outputs": [],
      "source": [
        "# integer representing the number of elements to shuffle at a time\n",
        "shuffle_buffer_size = TRAIN_SIZE # the number of data in the training set\n",
        "# build the training dataset & optimize it for training\n",
        "# train_ds = tf.data.Dataset.zip((text_int_sequences, label_ds)) \\ # [Option 1]\n",
        "train_ds = tf.data.Dataset.zip((text_ds, label_ds)) \\\n",
        "            .shuffle(buffer_size=shuffle_buffer_size) \\\n",
        "            .cache() \\\n",
        "            .prefetch(buffer_size=tf.data.AUTOTUNE)"
      ]
    },
    {
      "cell_type": "markdown",
      "metadata": {
        "id": "AEWeTi5G_Bgc"
      },
      "source": [
        "### Convert Validation Set and Test Set as well"
      ]
    },
    {
      "cell_type": "code",
      "execution_count": 41,
      "metadata": {
        "id": "4J2OsSjFBdhB"
      },
      "outputs": [],
      "source": [
        "val_texts = [row['texts'] for row in validation_dataset_final]\n",
        "val_labels = [row['label'] for row in validation_dataset_final]\n",
        "val_text_ds = tf.data.Dataset.from_tensor_slices(val_texts).batch(BATCH_SIZE)\n",
        "val_label_ds = tf.data.Dataset.from_tensor_slices(tf.cast(val_labels, tf.int32)).batch(BATCH_SIZE)\n",
        "# val_text_int_sequences = val_text_ds.map(vectorize_layer) # [Option 1]\n",
        "# note: no shuffling for validation and test sets\n",
        "val_ds = tf.data.Dataset.zip((val_text_ds, val_label_ds)) \\\n",
        "            .cache() \\\n",
        "            .prefetch(buffer_size=tf.data.AUTOTUNE)"
      ]
    },
    {
      "cell_type": "code",
      "execution_count": 42,
      "metadata": {
        "id": "uwfkPN1bXdL6"
      },
      "outputs": [],
      "source": [
        "test_texts = [row['texts'] for row in test_dataset_final]\n",
        "test_labels = [row['label'] for row in test_dataset_final]\n",
        "test_text_ds = tf.data.Dataset.from_tensor_slices(test_texts).batch(BATCH_SIZE)\n",
        "test_label_ds = tf.data.Dataset.from_tensor_slices(tf.cast(test_labels, tf.int32)).batch(BATCH_SIZE)\n",
        "test_ds = tf.data.Dataset.zip((test_text_ds, test_label_ds)) \\\n",
        "            .cache() \\\n",
        "            .prefetch(buffer_size=tf.data.AUTOTUNE)"
      ]
    },
    {
      "cell_type": "code",
      "execution_count": 43,
      "metadata": {
        "id": "xu8qKSswAk6S"
      },
      "outputs": [],
      "source": [
        "# sanity check\n",
        "# for example, label in val_ds.take(1):\n",
        "#   print('texts: ', example.numpy())\n",
        "#   print()\n",
        "#   print('labels: ', label.numpy())\n",
        "# exact_sample_count = sum(1 for _ in train_ds.unbatch())  # This can be slow for large datasets\n",
        "# print(\"Total number of samples in train_ds:\", exact_sample_count)"
      ]
    },
    {
      "cell_type": "markdown",
      "metadata": {
        "id": "XovGLmnyHmYK"
      },
      "source": [
        "# Build LSTM Model"
      ]
    },
    {
      "cell_type": "code",
      "execution_count": 68,
      "metadata": {
        "id": "p-3Q5n1sHqst"
      },
      "outputs": [],
      "source": [
        "from tensorflow.keras import layers\n",
        "from tensorflow.keras import regularizers\n",
        "\n",
        "# More Hyperparameters\n",
        "EMBEDDING_DIM = 128    # Dimension of the embedding vectors\n",
        "LSTM_UNITS = 16        # The number of units in the LSTM layer (x2 if bidirectional is specified)\n",
        "DROPOUT_RATE = 0.25\n",
        "REGULAR_RATE = 0.001\n",
        "\n",
        "model = tf.keras.Sequential([\n",
        "    # [Option 2] convert text to vectors\n",
        "    vectorize_layer,\n",
        "    # TODO: can switch the embedding to be a pre-trained model, e.g. word2vec\n",
        "    layers.Embedding(\n",
        "        input_dim=MAX_FEATURES + 1,\n",
        "        # input_dim=len(vectorize_layer.get_vocabulary()) + 1,\n",
        "        output_dim=EMBEDDING_DIM,\n",
        "        input_length=SEQUENCE_LENGTH,\n",
        "        mask_zero=True),\n",
        "    # Avoid overfitting\n",
        "    layers.SpatialDropout1D(DROPOUT_RATE),\n",
        "    # LSTM layer\n",
        "    layers.Bidirectional(layers.LSTM(\n",
        "        LSTM_UNITS,\n",
        "        dropout=DROPOUT_RATE,\n",
        "        recurrent_dropout=DROPOUT_RATE,\n",
        "        return_sequences=True)),\n",
        "    layers.Bidirectional(layers.LSTM(\n",
        "        LSTM_UNITS,\n",
        "        dropout=DROPOUT_RATE,\n",
        "        recurrent_dropout=DROPOUT_RATE)),\n",
        "    # layers.LSTM(\n",
        "    #     LSTM_UNITS,\n",
        "    #     dropout=DROPOUT_RATE,\n",
        "    #     recurrent_dropout=DROPOUT_RATE,\n",
        "    #     kernel_regularizer=regularizers.l2(REGULAR_RATE),\n",
        "    #     recurrent_regularizer=regularizers.l2(REGULAR_RATE)),\n",
        "    # increasing complexity\n",
        "    # layers.Dense(64, activation='relu', kernel_regularizer=regularizers.l2(REGULAR_RATE)),\n",
        "    # using sigmoid activation function for binary classification problem\n",
        "    layers.Dense(1, activation='sigmoid')\n",
        "])\n",
        "\n",
        "model.compile(optimizer='adam', loss='binary_crossentropy', metrics=['accuracy'])"
      ]
    },
    {
      "cell_type": "code",
      "execution_count": 59,
      "metadata": {
        "colab": {
          "base_uri": "https://localhost:8080/"
        },
        "id": "UoUjjpphDFfR",
        "outputId": "dc936cd5-38f8-4fff-e0db-08721c79ac64"
      },
      "outputs": [
        {
          "output_type": "stream",
          "name": "stdout",
          "text": [
            "5000\n",
            "32\n"
          ]
        }
      ],
      "source": [
        "print(MAX_FEATURES)\n",
        "print(BATCH_SIZE)"
      ]
    },
    {
      "cell_type": "code",
      "execution_count": 69,
      "metadata": {
        "colab": {
          "base_uri": "https://localhost:8080/"
        },
        "id": "iIEGHofbRFfM",
        "outputId": "db9ae488-954e-4671-ffbc-bc58fff3d238"
      },
      "outputs": [
        {
          "output_type": "stream",
          "name": "stdout",
          "text": [
            "Model: \"sequential_4\"\n",
            "_________________________________________________________________\n",
            " Layer (type)                Output Shape              Param #   \n",
            "=================================================================\n",
            " text_vectorization_3 (Text  (None, 20)                0         \n",
            " Vectorization)                                                  \n",
            "                                                                 \n",
            " embedding_4 (Embedding)     (None, 20, 128)           640128    \n",
            "                                                                 \n",
            " spatial_dropout1d_4 (Spati  (None, 20, 128)           0         \n",
            " alDropout1D)                                                    \n",
            "                                                                 \n",
            " bidirectional_8 (Bidirecti  (None, 20, 32)            18560     \n",
            " onal)                                                           \n",
            "                                                                 \n",
            " bidirectional_9 (Bidirecti  (None, 32)                6272      \n",
            " onal)                                                           \n",
            "                                                                 \n",
            " dense_4 (Dense)             (None, 1)                 33        \n",
            "                                                                 \n",
            "=================================================================\n",
            "Total params: 664993 (2.54 MB)\n",
            "Trainable params: 664993 (2.54 MB)\n",
            "Non-trainable params: 0 (0.00 Byte)\n",
            "_________________________________________________________________\n"
          ]
        }
      ],
      "source": [
        "model.summary()"
      ]
    },
    {
      "cell_type": "markdown",
      "metadata": {
        "id": "_zL_1LhvVpjN"
      },
      "source": [
        "# Training"
      ]
    },
    {
      "cell_type": "code",
      "execution_count": 70,
      "metadata": {
        "id": "xj_C98AuhRZF"
      },
      "outputs": [],
      "source": [
        "from tensorflow.keras.callbacks import EarlyStopping\n",
        "from tensorflow.keras.callbacks import ReduceLROnPlateau\n",
        "from tensorflow.keras.callbacks import ModelCheckpoint\n",
        "\n",
        "# Define the EarlyStopping callback\n",
        "early_stopping = EarlyStopping(\n",
        "    monitor='val_accuracy',\n",
        "    patience=3,\n",
        "    verbose=1,\n",
        "    restore_best_weights=True  # Restores model weights from the epoch with the minimum validation loss.\n",
        ")\n",
        "\n",
        "# Save model checkpoints\n",
        "checkpoint_filepath = 'training/best_model.h5'\n",
        "model_checkpoint = ModelCheckpoint(\n",
        "    filepath=checkpoint_filepath,\n",
        "    monitor='val_accuracy',\n",
        "    mode='max',\n",
        "    save_best_only=True)\n",
        "\n",
        "# Reduce learning rate on plateau\n",
        "reduce_lr = ReduceLROnPlateau(\n",
        "    monitor='val_accuracy',\n",
        "    factor=0.1,\n",
        "    patience=3,\n",
        "    verbose=1\n",
        ")"
      ]
    },
    {
      "cell_type": "code",
      "execution_count": 71,
      "metadata": {
        "colab": {
          "base_uri": "https://localhost:8080/"
        },
        "id": "_6_0YR3eVrTU",
        "outputId": "c2f1f172-8a32-41a5-b5cd-723bf89bd02a"
      },
      "outputs": [
        {
          "output_type": "stream",
          "name": "stdout",
          "text": [
            "Epoch 1/10\n",
            "116/116 [==============================] - 37s 147ms/step - loss: 0.5934 - accuracy: 0.7238 - val_loss: 0.4264 - val_accuracy: 0.8595 - lr: 0.0010\n",
            "Epoch 2/10\n",
            "116/116 [==============================] - 16s 134ms/step - loss: 0.3458 - accuracy: 0.8699 - val_loss: 0.3197 - val_accuracy: 0.8742 - lr: 0.0010\n",
            "Epoch 3/10\n",
            "116/116 [==============================] - 15s 133ms/step - loss: 0.1968 - accuracy: 0.9352 - val_loss: 0.2683 - val_accuracy: 0.9036 - lr: 0.0010\n",
            "Epoch 4/10\n",
            "116/116 [==============================] - 16s 140ms/step - loss: 0.1241 - accuracy: 0.9565 - val_loss: 0.2634 - val_accuracy: 0.9182 - lr: 0.0010\n",
            "Epoch 5/10\n",
            "116/116 [==============================] - 17s 143ms/step - loss: 0.0926 - accuracy: 0.9692 - val_loss: 0.2706 - val_accuracy: 0.9224 - lr: 0.0010\n",
            "Epoch 6/10\n",
            "116/116 [==============================] - 16s 135ms/step - loss: 0.0787 - accuracy: 0.9749 - val_loss: 0.2578 - val_accuracy: 0.9245 - lr: 0.0010\n",
            "Epoch 7/10\n",
            "116/116 [==============================] - 16s 138ms/step - loss: 0.0640 - accuracy: 0.9779 - val_loss: 0.2444 - val_accuracy: 0.9329 - lr: 0.0010\n",
            "Epoch 8/10\n",
            "116/116 [==============================] - 15s 132ms/step - loss: 0.0514 - accuracy: 0.9822 - val_loss: 0.2879 - val_accuracy: 0.9203 - lr: 0.0010\n",
            "Epoch 9/10\n",
            "116/116 [==============================] - 17s 144ms/step - loss: 0.0466 - accuracy: 0.9854 - val_loss: 0.2842 - val_accuracy: 0.9287 - lr: 0.0010\n",
            "Epoch 10/10\n",
            "116/116 [==============================] - ETA: 0s - loss: 0.0349 - accuracy: 0.9881Restoring model weights from the end of the best epoch: 7.\n",
            "\n",
            "Epoch 10: ReduceLROnPlateau reducing learning rate to 0.00010000000474974513.\n",
            "116/116 [==============================] - 15s 133ms/step - loss: 0.0349 - accuracy: 0.9881 - val_loss: 0.3228 - val_accuracy: 0.9329 - lr: 0.0010\n",
            "Epoch 10: early stopping\n"
          ]
        }
      ],
      "source": [
        "# Even More Hyperparameters\n",
        "EPOCHS = 10\n",
        "\n",
        "history = model.fit(train_ds, epochs=EPOCHS, validation_data=val_ds, callbacks=[early_stopping, reduce_lr])"
      ]
    },
    {
      "cell_type": "code",
      "execution_count": 73,
      "metadata": {
        "colab": {
          "base_uri": "https://localhost:8080/"
        },
        "id": "KTbAGTR8W8ip",
        "outputId": "57cff60f-986a-437d-8a6e-be54bcbb9057"
      },
      "outputs": [
        {
          "output_type": "stream",
          "name": "stdout",
          "text": [
            "19/19 [==============================] - 0s 16ms/step - loss: 0.2138 - accuracy: 0.9383\n",
            "Test Loss: 0.21379561722278595\n",
            "Test Accuracy: 0.9382504224777222\n"
          ]
        }
      ],
      "source": [
        "test_loss, test_acc = model.evaluate(test_ds)\n",
        "\n",
        "print('Test Loss:', test_loss)\n",
        "print('Test Accuracy:', test_acc)"
      ]
    },
    {
      "cell_type": "code",
      "execution_count": 74,
      "metadata": {
        "colab": {
          "base_uri": "https://localhost:8080/"
        },
        "id": "Fs1qKXL3YLcQ",
        "outputId": "aacfc238-5e76-4a58-e7e7-764f0b747452"
      },
      "outputs": [
        {
          "output_type": "stream",
          "name": "stderr",
          "text": [
            "[codecarbon INFO @ 23:14:30] [setup] RAM Tracking...\n",
            "[codecarbon INFO @ 23:14:30] [setup] GPU Tracking...\n",
            "[codecarbon INFO @ 23:14:30] No GPU found.\n",
            "[codecarbon INFO @ 23:14:30] [setup] CPU Tracking...\n",
            "[codecarbon WARNING @ 23:14:30] No CPU tracking mode found. Falling back on CPU constant mode.\n",
            "[codecarbon WARNING @ 23:14:31] We saw that you have a Intel(R) Xeon(R) CPU @ 2.20GHz but we don't know it. Please contact us.\n",
            "[codecarbon INFO @ 23:14:31] CPU Model on constant consumption mode: Intel(R) Xeon(R) CPU @ 2.20GHz\n",
            "[codecarbon INFO @ 23:14:31] >>> Tracker's metadata:\n",
            "[codecarbon INFO @ 23:14:31]   Platform system: Linux-6.1.58+-x86_64-with-glibc2.35\n",
            "[codecarbon INFO @ 23:14:31]   Python version: 3.10.12\n",
            "[codecarbon INFO @ 23:14:31]   CodeCarbon version: 2.3.4\n",
            "[codecarbon INFO @ 23:14:31]   Available RAM : 12.675 GB\n",
            "[codecarbon INFO @ 23:14:31]   CPU count: 2\n",
            "[codecarbon INFO @ 23:14:31]   CPU model: Intel(R) Xeon(R) CPU @ 2.20GHz\n",
            "[codecarbon INFO @ 23:14:31]   GPU count: None\n",
            "[codecarbon INFO @ 23:14:31]   GPU model: None\n"
          ]
        },
        {
          "output_type": "stream",
          "name": "stdout",
          "text": [
            "1/1 [==============================] - 1s 1s/step\n"
          ]
        },
        {
          "output_type": "stream",
          "name": "stderr",
          "text": [
            "[codecarbon INFO @ 23:14:33] Energy consumed for RAM : 0.000002 kWh. RAM Power : 4.753043174743652 W\n",
            "[codecarbon INFO @ 23:14:33] Energy consumed for all CPUs : 0.000016 kWh. Total CPU Power : 42.5 W\n",
            "[codecarbon INFO @ 23:14:33] 0.000018 kWh of electricity used since the beginning.\n"
          ]
        },
        {
          "output_type": "stream",
          "name": "stdout",
          "text": [
            "Emissions: 8.044864883624477e-06 kg\n"
          ]
        },
        {
          "output_type": "execute_result",
          "data": {
            "text/plain": [
              "array([[0.9963056]], dtype=float32)"
            ]
          },
          "metadata": {},
          "execution_count": 74
        }
      ],
      "source": [
        "sample_text = ('Lets explore each others body')\n",
        "tracker = EmissionsTracker()\n",
        "tracker.start()\n",
        "predictions = model.predict(np.array([sample_text]))\n",
        "emissions: float = tracker.stop()\n",
        "print(f\"Emissions: {emissions} kg\")\n",
        "predictions"
      ]
    },
    {
      "cell_type": "markdown",
      "metadata": {
        "id": "Edd6Nby7QQfn"
      },
      "source": [
        "# Analysis"
      ]
    },
    {
      "cell_type": "markdown",
      "metadata": {
        "id": "XVc1-hjYeciS"
      },
      "source": [
        "## Training Plots"
      ]
    },
    {
      "cell_type": "code",
      "execution_count": 75,
      "metadata": {
        "colab": {
          "base_uri": "https://localhost:8080/"
        },
        "id": "SFqVO_UPQSJO",
        "outputId": "b1ded922-bf3f-4d10-f3d0-f811a2a50eb0"
      },
      "outputs": [
        {
          "output_type": "execute_result",
          "data": {
            "text/plain": [
              "dict_keys(['loss', 'accuracy', 'val_loss', 'val_accuracy', 'lr'])"
            ]
          },
          "metadata": {},
          "execution_count": 75
        }
      ],
      "source": [
        "import matplotlib.pyplot as plt\n",
        "\n",
        "history_dict = history.history\n",
        "history_dict.keys()"
      ]
    },
    {
      "cell_type": "code",
      "execution_count": 76,
      "metadata": {
        "id": "MuvVrxn9Q-r1"
      },
      "outputs": [],
      "source": [
        "acc = history_dict['accuracy']\n",
        "val_acc = history_dict['val_accuracy']\n",
        "loss = history_dict['loss']\n",
        "val_loss = history_dict['val_loss']\n",
        "epochs = range(1, len(acc) + 1)"
      ]
    },
    {
      "cell_type": "code",
      "execution_count": 77,
      "metadata": {
        "colab": {
          "base_uri": "https://localhost:8080/",
          "height": 472
        },
        "id": "PEe3s5KfQaZt",
        "outputId": "19dcaf5b-4160-4ac6-ac10-fe0032919c2c"
      },
      "outputs": [
        {
          "output_type": "display_data",
          "data": {
            "text/plain": [
              "<Figure size 640x480 with 1 Axes>"
            ],
            "image/png": "[encoded data removed]"
          },
          "metadata": {}
        }
      ],
      "source": [
        "# \"bo\" is for \"blue dot\"\n",
        "plt.plot(epochs, loss, 'bo-', label='Training loss')\n",
        "# b is for \"solid blue line\"\n",
        "plt.plot(epochs, val_loss, 'ro-', label='Validation loss')\n",
        "plt.title(f'Training and Validation Loss over {EPOCHS} Epochs of LSTM Model')\n",
        "plt.xlabel('Epochs')\n",
        "plt.ylabel('Loss')\n",
        "plt.legend()\n",
        "\n",
        "plt.show()"
      ]
    },
    {
      "cell_type": "code",
      "execution_count": 78,
      "metadata": {
        "colab": {
          "base_uri": "https://localhost:8080/",
          "height": 472
        },
        "id": "wf9MqgY9SNLD",
        "outputId": "2bc71592-3fa5-43f6-f7eb-cbc8080975e5"
      },
      "outputs": [
        {
          "output_type": "display_data",
          "data": {
            "text/plain": [
              "<Figure size 640x480 with 1 Axes>"
            ],
            "image/png": "[encoded data removed]"
          },
          "metadata": {}
        }
      ],
      "source": [
        "plt.plot(epochs, acc, 'bo-', label='Training acc')\n",
        "plt.plot(epochs, val_acc, 'ro-', label='Validation acc')\n",
        "plt.title(f'Training and Validation Accuracy over {EPOCHS} Epochs of LSTM Model')\n",
        "plt.xlabel('Epochs')\n",
        "plt.ylabel('Accuracy')\n",
        "plt.legend(loc='lower right')\n",
        "\n",
        "plt.show()"
      ]
    },
    {
      "cell_type": "markdown",
      "metadata": {
        "id": "tXHNM2DXeYSo"
      },
      "source": [
        "## Confusion Matrix"
      ]
    },
    {
      "cell_type": "code",
      "execution_count": 79,
      "metadata": {
        "colab": {
          "base_uri": "https://localhost:8080/"
        },
        "id": "pmmZVVjLTIHz",
        "outputId": "6c111ea1-83e3-40d5-ceb0-546af785e3f9"
      },
      "outputs": [
        {
          "output_type": "stream",
          "name": "stdout",
          "text": [
            "19/19 [==============================] - 2s 16ms/step\n"
          ]
        }
      ],
      "source": [
        "from sklearn.metrics import confusion_matrix\n",
        "\n",
        "# make predictions on test set\n",
        "y_pred = model.predict(test_ds)\n",
        "# convert these probabilities to binary predictions\n",
        "# e.g., classify samples with a probability > 0.5 as positive (flirty)\n",
        "y_pred_binary = (y_pred > 0.5).astype(\"int32\")\n",
        "# Prepare the true labels. You'll need to concatenate them into one array.\n",
        "y_true = np.concatenate([y for x, y in test_ds], axis=0)\n",
        "\n",
        "# Compute the confusion matrix\n",
        "conf_matrix = confusion_matrix(y_true, y_pred_binary)"
      ]
    },
    {
      "cell_type": "code",
      "execution_count": 80,
      "metadata": {
        "colab": {
          "base_uri": "https://localhost:8080/",
          "height": 472
        },
        "id": "iieDzNFUWeJD",
        "outputId": "94e03555-7e60-4713-fcca-9cebfccdb850"
      },
      "outputs": [
        {
          "output_type": "display_data",
          "data": {
            "text/plain": [
              "<Figure size 640x480 with 2 Axes>"
            ],
            "image/png": "[encoded data removed]"
          },
          "metadata": {}
        }
      ],
      "source": [
        "import seaborn as sns\n",
        "\n",
        "# plot the confusion matrix using seaborn (for better visualization)\n",
        "sns.heatmap(conf_matrix, annot=True, fmt='d', cmap='Blues')\n",
        "plt.xlabel('Predicted Label')\n",
        "plt.ylabel('True Label')\n",
        "plt.title(\"Confusion Matrix for LSTM Model's Prediction on Test Set\")\n",
        "plt.show()"
      ]
    },
    {
      "cell_type": "markdown",
      "metadata": {
        "id": "Kf6cYbp9efD_"
      },
      "source": [
        "## See Wrong Predictions"
      ]
    },
    {
      "cell_type": "code",
      "execution_count": 81,
      "metadata": {
        "id": "IyV3R8-7XOnH"
      },
      "outputs": [],
      "source": [
        "# Get binary prediction produced by model\n",
        "y_pred1 = (y_pred > 0.5).astype(\"int32\").flatten()\n",
        "# Collect true labels\n",
        "y_true1 = np.concatenate([labels.numpy() for inputs, labels in test_ds]).flatten()\n",
        "# Collect input data (assuming the input data is a NumPy array or a list)\n",
        "x_test1 = np.concatenate([inputs.numpy() for inputs, labels in test_ds]).flatten()"
      ]
    },
    {
      "cell_type": "code",
      "execution_count": 82,
      "metadata": {
        "id": "QIWObqEmbh61"
      },
      "outputs": [],
      "source": [
        "# Identify indices of incorrect predictions\n",
        "false_positives = np.where((y_pred1 == 1) & (y_true1 == 0))[0]\n",
        "false_negatives = np.where((y_pred1 == 0) & (y_true1 == 1))[0]\n",
        "# Retrieve the corresponding input text for false positives and false negatives\n",
        "fp_texts = [x_test1[i] for i in false_positives]\n",
        "fn_texts = [x_test1[i] for i in false_negatives]"
      ]
    },
    {
      "cell_type": "code",
      "execution_count": 83,
      "metadata": {
        "colab": {
          "base_uri": "https://localhost:8080/"
        },
        "id": "d8lUXX_Wb4f6",
        "outputId": "c78daba0-dbba-4544-b808-878feb12037c"
      },
      "outputs": [
        {
          "output_type": "stream",
          "name": "stdout",
          "text": [
            "False Positives:\n",
            "Text: b'?*' - Predicted: [0.51064444], Actual: 0\n",
            "Text: b'probably, i have no idea what i want/am looking for' - Predicted: [0.5539961], Actual: 0\n",
            "Text: b'right' - Predicted: [0.62303746], Actual: 0\n",
            "Text: b'just then' - Predicted: [0.6731782], Actual: 0\n",
            "Text: b'croquet' - Predicted: [0.5653621], Actual: 0\n",
            "Text: b'I know what u mean' - Predicted: [0.94362754], Actual: 0\n",
            "Text: b'We bought a table that is a nice heavy wood table but it extends into a pong table \\xf0\\x9f\\x98\\x82 we rarely use it tho sadly' - Predicted: [0.7302538], Actual: 0\n",
            "Text: b'2x better' - Predicted: [0.64636403], Actual: 0\n",
            "Text: b\"that's ironic because i didn't take the dog out of the backyard...\" - Predicted: [0.85634935], Actual: 0\n",
            "\n",
            "\n",
            "False Negatives:\n",
            "Text: b'oh yeah...' - Predicted: [0.17766057], Actual: 1\n",
            "Text: b' are you available to hang out later' - Predicted: [0.0048202], Actual: 1\n",
            "Text: b'Okay' - Predicted: [0.03821768], Actual: 1\n",
            "Text: b'Me: Yeah I\\xe2\\x80\\x99m not actually going to San Diego LOL' - Predicted: [0.00375728], Actual: 1\n",
            "Text: b'T-shirt and jeans, bare feet, red pedicure.' - Predicted: [0.00225828], Actual: 1\n",
            "Text: b'Hey.' - Predicted: [0.41133493], Actual: 1\n",
            "Text: b'San Diego? Hmm' - Predicted: [0.1194597], Actual: 1\n",
            "Text: b'I see that UW dorm bed lol which dorm did u stay in?' - Predicted: [0.00137837], Actual: 1\n",
            "Text: b'Bought to start spin class\\xe2\\x80\\xa6 Ttyl :*' - Predicted: [0.00577475], Actual: 1\n",
            "Text: b'Maybe just a little \\xf0\\x9f\\x99\\x82' - Predicted: [0.41942918], Actual: 1\n",
            "Text: b'Let\\xe2\\x80\\x99s make a movie' - Predicted: [0.0568307], Actual: 1\n",
            "Text: b'mhmm?' - Predicted: [0.23982292], Actual: 1\n",
            "Text: b'Lol.. spin class' - Predicted: [0.00838866], Actual: 1\n",
            "Text: b\"I'll make you shake, that's such a turn on for me\" - Predicted: [0.00938379], Actual: 1\n",
            "Text: b'Can I have a sprinkle of your magic seasoning?' - Predicted: [0.11685339], Actual: 1\n",
            "Text: b\"nice, couldn't find slave labour at home?\" - Predicted: [0.0016415], Actual: 1\n",
            "Text: b'do you feel like hanging out later' - Predicted: [0.08508448], Actual: 1\n",
            "Text: b'Lol funny huh?' - Predicted: [0.06565168], Actual: 1\n",
            "Text: b'Repeatedly' - Predicted: [0.44403034], Actual: 1\n",
            "Text: b'Then you share something in common \\xf0\\x9f\\xa4\\xaa' - Predicted: [0.10488674], Actual: 1\n",
            "Text: b\"I can't wait to work up a sweat at the gym and then come home to you for some post-workout fun.\" - Predicted: [0.09342422], Actual: 1\n",
            "Text: b'Good I would hope so' - Predicted: [0.01014585], Actual: 1\n",
            "Text: b'The mere thought of you is giving me a headache, but in the best way possible.' - Predicted: [0.02235601], Actual: 1\n",
            "Text: b'You guessed the next line \\xf0\\x9f\\x98\\xa4 the Y is silent' - Predicted: [0.00607085], Actual: 1\n",
            "Text: b'Oops that was for Julie sorry' - Predicted: [0.00082525], Actual: 1\n",
            "Text: b'Before we go on a date I have to know what the cardboard box looks like' - Predicted: [0.0983052], Actual: 1\n",
            "Text: b'Let\\xe2\\x80\\x99s make a movie' - Predicted: [0.0568307], Actual: 1\n"
          ]
        }
      ],
      "source": [
        "# Now, if you want to visualize some of them:\n",
        "print(\"False Positives:\")\n",
        "for i, fp_idx in enumerate(false_positives):  # Show first 10 false positives\n",
        "  print(f\"Text: {fp_texts[i]} - Predicted: {y_pred[fp_idx]}, Actual: {y_true[fp_idx]}\")\n",
        "print(\"\\n\")\n",
        "print(\"False Negatives:\")\n",
        "for i, fn_idx in enumerate(false_negatives):  # Show first 10 false negatives\n",
        "  print(f\"Text: {fn_texts[i]} - Predicted: {y_pred[fn_idx]}, Actual: {y_true[fn_idx]}\")"
      ]
    },
    {
      "cell_type": "markdown",
      "metadata": {
        "id": "3C_tVqAXemwC"
      },
      "source": [
        "# Save the Model"
      ]
    },
    {
      "cell_type": "code",
      "execution_count": 84,
      "metadata": {
        "colab": {
          "base_uri": "https://localhost:8080/"
        },
        "id": "mxKDpZ_3wcuZ",
        "outputId": "9222cccb-541c-4ecb-e79a-f3feafd412f3"
      },
      "outputs": [
        {
          "output_type": "stream",
          "name": "stdout",
          "text": [
            "2.15.0\n",
            "2.15.0\n"
          ]
        }
      ],
      "source": [
        "import keras\n",
        "print(keras.__version__)\n",
        "\n",
        "import tensorflow\n",
        "print(tensorflow.__version__)"
      ]
    },
    {
      "cell_type": "code",
      "execution_count": 85,
      "metadata": {
        "id": "oIrkLYK3erBM"
      },
      "outputs": [],
      "source": [
        "model.save('LSTM-Flirt.keras')"
      ]
    },
    {
      "cell_type": "code",
      "execution_count": 86,
      "metadata": {
        "colab": {
          "base_uri": "https://localhost:8080/"
        },
        "id": "xA9dXMMvgfUn",
        "outputId": "5344a71a-c8b0-4d63-b240-0463debbe31c"
      },
      "outputs": [
        {
          "output_type": "stream",
          "name": "stdout",
          "text": [
            "Model: \"sequential_4\"\n",
            "_________________________________________________________________\n",
            " Layer (type)                Output Shape              Param #   \n",
            "=================================================================\n",
            " text_vectorization_3 (Text  (None, 20)                0         \n",
            " Vectorization)                                                  \n",
            "                                                                 \n",
            " embedding_4 (Embedding)     (None, 20, 128)           640128    \n",
            "                                                                 \n",
            " spatial_dropout1d_4 (Spati  (None, 20, 128)           0         \n",
            " alDropout1D)                                                    \n",
            "                                                                 \n",
            " bidirectional_8 (Bidirecti  (None, 20, 32)            18560     \n",
            " onal)                                                           \n",
            "                                                                 \n",
            " bidirectional_9 (Bidirecti  (None, 32)                6272      \n",
            " onal)                                                           \n",
            "                                                                 \n",
            " dense_4 (Dense)             (None, 1)                 33        \n",
            "                                                                 \n",
            "=================================================================\n",
            "Total params: 664993 (2.54 MB)\n",
            "Trainable params: 664993 (2.54 MB)\n",
            "Non-trainable params: 0 (0.00 Byte)\n",
            "_________________________________________________________________\n"
          ]
        }
      ],
      "source": [
        "from tensorflow import keras\n",
        "\n",
        "new_model = keras.models.load_model('LSTM-Flirt.keras')\n",
        "\n",
        "# Show the model architecture\n",
        "new_model.summary()"
      ]
    },
    {
      "cell_type": "code",
      "execution_count": 87,
      "metadata": {
        "colab": {
          "base_uri": "https://localhost:8080/"
        },
        "id": "vC617lZWho7V",
        "outputId": "decc6cc2-c1e3-4564-dafb-a79d2bc77b1c"
      },
      "outputs": [
        {
          "output_type": "stream",
          "name": "stdout",
          "text": [
            "19/19 [==============================] - 3s 21ms/step - loss: 0.2138 - accuracy: 0.9383\n"
          ]
        },
        {
          "output_type": "execute_result",
          "data": {
            "text/plain": [
              "[0.21379561722278595, 0.9382504224777222]"
            ]
          },
          "metadata": {},
          "execution_count": 87
        }
      ],
      "source": [
        "new_model.evaluate(test_ds)"
      ]
    }
  ],
  "metadata": {
    "colab": {
      "collapsed_sections": [
        "hYJq23RCXUdh",
        "EmRgzs9lZdUt",
        "egW9ZW6e5fWc"
      ],
      "provenance": [],
      "include_colab_link": true
    },
    "kernelspec": {
      "display_name": "Python 3",
      "name": "python3"
    },
    "language_info": {
      "name": "python"
    },
    "widgets": {
      "application/vnd.jupyter.widget-state+json": {
        "c9262c2936b84317bb6511c35dd42034": {
          "model_module": "@jupyter-widgets/controls",
          "model_name": "HBoxModel",
          "model_module_version": "1.5.0",
          "state": {
            "_dom_classes": [],
            "_model_module": "@jupyter-widgets/controls",
            "_model_module_version": "1.5.0",
            "_model_name": "HBoxModel",
            "_view_count": null,
            "_view_module": "@jupyter-widgets/controls",
            "_view_module_version": "1.5.0",
            "_view_name": "HBoxView",
            "box_style": "",
            "children": [
              "IPY_MODEL_659f574fc3e9430783686db27e5f438e",
              "IPY_MODEL_0c4ffc64e7c54272badc9d7ec4b460b9",
              "IPY_MODEL_6d84c3c4c9e342cfaf56b82940e8466b"
            ],
            "layout": "IPY_MODEL_8a05e32097914b08a272ce5f8450b964"
          }
        },
        "659f574fc3e9430783686db27e5f438e": {
          "model_module": "@jupyter-widgets/controls",
          "model_name": "HTMLModel",
          "model_module_version": "1.5.0",
          "state": {
            "_dom_classes": [],
            "_model_module": "@jupyter-widgets/controls",
            "_model_module_version": "1.5.0",
            "_model_name": "HTMLModel",
            "_view_count": null,
            "_view_module": "@jupyter-widgets/controls",
            "_view_module_version": "1.5.0",
            "_view_name": "HTMLView",
            "description": "",
            "description_tooltip": null,
            "layout": "IPY_MODEL_c2e1419a8a744bb189e7398c50c86cc2",
            "placeholder": "​",
            "style": "IPY_MODEL_b420e24aabf041aaad509e6cd0be3d96",
            "value": "Downloading readme: 100%"
          }
        },
        "0c4ffc64e7c54272badc9d7ec4b460b9": {
          "model_module": "@jupyter-widgets/controls",
          "model_name": "FloatProgressModel",
          "model_module_version": "1.5.0",
          "state": {
            "_dom_classes": [],
            "_model_module": "@jupyter-widgets/controls",
            "_model_module_version": "1.5.0",
            "_model_name": "FloatProgressModel",
            "_view_count": null,
            "_view_module": "@jupyter-widgets/controls",
            "_view_module_version": "1.5.0",
            "_view_name": "ProgressView",
            "bar_style": "success",
            "description": "",
            "description_tooltip": null,
            "layout": "IPY_MODEL_ae6dae83700f427a9dedc9ab90954e20",
            "max": 610,
            "min": 0,
            "orientation": "horizontal",
            "style": "IPY_MODEL_223c16f263cf4c27931dc1bef1b2da17",
            "value": 610
          }
        },
        "6d84c3c4c9e342cfaf56b82940e8466b": {
          "model_module": "@jupyter-widgets/controls",
          "model_name": "HTMLModel",
          "model_module_version": "1.5.0",
          "state": {
            "_dom_classes": [],
            "_model_module": "@jupyter-widgets/controls",
            "_model_module_version": "1.5.0",
            "_model_name": "HTMLModel",
            "_view_count": null,
            "_view_module": "@jupyter-widgets/controls",
            "_view_module_version": "1.5.0",
            "_view_name": "HTMLView",
            "description": "",
            "description_tooltip": null,
            "layout": "IPY_MODEL_c8a739b3108a4467a799663eabb9b563",
            "placeholder": "​",
            "style": "IPY_MODEL_53525692342d46d99a344975f84e6118",
            "value": " 610/610 [00:00&lt;00:00, 20.6kB/s]"
          }
        },
        "8a05e32097914b08a272ce5f8450b964": {
          "model_module": "@jupyter-widgets/base",
          "model_name": "LayoutModel",
          "model_module_version": "1.2.0",
          "state": {
            "_model_module": "@jupyter-widgets/base",
            "_model_module_version": "1.2.0",
            "_model_name": "LayoutModel",
            "_view_count": null,
            "_view_module": "@jupyter-widgets/base",
            "_view_module_version": "1.2.0",
            "_view_name": "LayoutView",
            "align_content": null,
            "align_items": null,
            "align_self": null,
            "border": null,
            "bottom": null,
            "display": null,
            "flex": null,
            "flex_flow": null,
            "grid_area": null,
            "grid_auto_columns": null,
            "grid_auto_flow": null,
            "grid_auto_rows": null,
            "grid_column": null,
            "grid_gap": null,
            "grid_row": null,
            "grid_template_areas": null,
            "grid_template_columns": null,
            "grid_template_rows": null,
            "height": null,
            "justify_content": null,
            "justify_items": null,
            "left": null,
            "margin": null,
            "max_height": null,
            "max_width": null,
            "min_height": null,
            "min_width": null,
            "object_fit": null,
            "object_position": null,
            "order": null,
            "overflow": null,
            "overflow_x": null,
            "overflow_y": null,
            "padding": null,
            "right": null,
            "top": null,
            "visibility": null,
            "width": null
          }
        },
        "c2e1419a8a744bb189e7398c50c86cc2": {
          "model_module": "@jupyter-widgets/base",
          "model_name": "LayoutModel",
          "model_module_version": "1.2.0",
          "state": {
            "_model_module": "@jupyter-widgets/base",
            "_model_module_version": "1.2.0",
            "_model_name": "LayoutModel",
            "_view_count": null,
            "_view_module": "@jupyter-widgets/base",
            "_view_module_version": "1.2.0",
            "_view_name": "LayoutView",
            "align_content": null,
            "align_items": null,
            "align_self": null,
            "border": null,
            "bottom": null,
            "display": null,
            "flex": null,
            "flex_flow": null,
            "grid_area": null,
            "grid_auto_columns": null,
            "grid_auto_flow": null,
            "grid_auto_rows": null,
            "grid_column": null,
            "grid_gap": null,
            "grid_row": null,
            "grid_template_areas": null,
            "grid_template_columns": null,
            "grid_template_rows": null,
            "height": null,
            "justify_content": null,
            "justify_items": null,
            "left": null,
            "margin": null,
            "max_height": null,
            "max_width": null,
            "min_height": null,
            "min_width": null,
            "object_fit": null,
            "object_position": null,
            "order": null,
            "overflow": null,
            "overflow_x": null,
            "overflow_y": null,
            "padding": null,
            "right": null,
            "top": null,
            "visibility": null,
            "width": null
          }
        },
        "b420e24aabf041aaad509e6cd0be3d96": {
          "model_module": "@jupyter-widgets/controls",
          "model_name": "DescriptionStyleModel",
          "model_module_version": "1.5.0",
          "state": {
            "_model_module": "@jupyter-widgets/controls",
            "_model_module_version": "1.5.0",
            "_model_name": "DescriptionStyleModel",
            "_view_count": null,
            "_view_module": "@jupyter-widgets/base",
            "_view_module_version": "1.2.0",
            "_view_name": "StyleView",
            "description_width": ""
          }
        },
        "ae6dae83700f427a9dedc9ab90954e20": {
          "model_module": "@jupyter-widgets/base",
          "model_name": "LayoutModel",
          "model_module_version": "1.2.0",
          "state": {
            "_model_module": "@jupyter-widgets/base",
            "_model_module_version": "1.2.0",
            "_model_name": "LayoutModel",
            "_view_count": null,
            "_view_module": "@jupyter-widgets/base",
            "_view_module_version": "1.2.0",
            "_view_name": "LayoutView",
            "align_content": null,
            "align_items": null,
            "align_self": null,
            "border": null,
            "bottom": null,
            "display": null,
            "flex": null,
            "flex_flow": null,
            "grid_area": null,
            "grid_auto_columns": null,
            "grid_auto_flow": null,
            "grid_auto_rows": null,
            "grid_column": null,
            "grid_gap": null,
            "grid_row": null,
            "grid_template_areas": null,
            "grid_template_columns": null,
            "grid_template_rows": null,
            "height": null,
            "justify_content": null,
            "justify_items": null,
            "left": null,
            "margin": null,
            "max_height": null,
            "max_width": null,
            "min_height": null,
            "min_width": null,
            "object_fit": null,
            "object_position": null,
            "order": null,
            "overflow": null,
            "overflow_x": null,
            "overflow_y": null,
            "padding": null,
            "right": null,
            "top": null,
            "visibility": null,
            "width": null
          }
        },
        "223c16f263cf4c27931dc1bef1b2da17": {
          "model_module": "@jupyter-widgets/controls",
          "model_name": "ProgressStyleModel",
          "model_module_version": "1.5.0",
          "state": {
            "_model_module": "@jupyter-widgets/controls",
            "_model_module_version": "1.5.0",
            "_model_name": "ProgressStyleModel",
            "_view_count": null,
            "_view_module": "@jupyter-widgets/base",
            "_view_module_version": "1.2.0",
            "_view_name": "StyleView",
            "bar_color": null,
            "description_width": ""
          }
        },
        "c8a739b3108a4467a799663eabb9b563": {
          "model_module": "@jupyter-widgets/base",
          "model_name": "LayoutModel",
          "model_module_version": "1.2.0",
          "state": {
            "_model_module": "@jupyter-widgets/base",
            "_model_module_version": "1.2.0",
            "_model_name": "LayoutModel",
            "_view_count": null,
            "_view_module": "@jupyter-widgets/base",
            "_view_module_version": "1.2.0",
            "_view_name": "LayoutView",
            "align_content": null,
            "align_items": null,
            "align_self": null,
            "border": null,
            "bottom": null,
            "display": null,
            "flex": null,
            "flex_flow": null,
            "grid_area": null,
            "grid_auto_columns": null,
            "grid_auto_flow": null,
            "grid_auto_rows": null,
            "grid_column": null,
            "grid_gap": null,
            "grid_row": null,
            "grid_template_areas": null,
            "grid_template_columns": null,
            "grid_template_rows": null,
            "height": null,
            "justify_content": null,
            "justify_items": null,
            "left": null,
            "margin": null,
            "max_height": null,
            "max_width": null,
            "min_height": null,
            "min_width": null,
            "object_fit": null,
            "object_position": null,
            "order": null,
            "overflow": null,
            "overflow_x": null,
            "overflow_y": null,
            "padding": null,
            "right": null,
            "top": null,
            "visibility": null,
            "width": null
          }
        },
        "53525692342d46d99a344975f84e6118": {
          "model_module": "@jupyter-widgets/controls",
          "model_name": "DescriptionStyleModel",
          "model_module_version": "1.5.0",
          "state": {
            "_model_module": "@jupyter-widgets/controls",
            "_model_module_version": "1.5.0",
            "_model_name": "DescriptionStyleModel",
            "_view_count": null,
            "_view_module": "@jupyter-widgets/base",
            "_view_module_version": "1.2.0",
            "_view_name": "StyleView",
            "description_width": ""
          }
        },
        "a72e0ca16653487f9e2258f8be65b9fa": {
          "model_module": "@jupyter-widgets/controls",
          "model_name": "HBoxModel",
          "model_module_version": "1.5.0",
          "state": {
            "_dom_classes": [],
            "_model_module": "@jupyter-widgets/controls",
            "_model_module_version": "1.5.0",
            "_model_name": "HBoxModel",
            "_view_count": null,
            "_view_module": "@jupyter-widgets/controls",
            "_view_module_version": "1.5.0",
            "_view_name": "HBoxView",
            "box_style": "",
            "children": [
              "IPY_MODEL_eba292b54ae44d10833de381f3caba83",
              "IPY_MODEL_9c8173f161fd4de5a822076438d5bcae",
              "IPY_MODEL_82deefb988b0439e9065ec4ea8aecad5"
            ],
            "layout": "IPY_MODEL_9fb2929dfb254ef19fcfc715fbd46e0b"
          }
        },
        "eba292b54ae44d10833de381f3caba83": {
          "model_module": "@jupyter-widgets/controls",
          "model_name": "HTMLModel",
          "model_module_version": "1.5.0",
          "state": {
            "_dom_classes": [],
            "_model_module": "@jupyter-widgets/controls",
            "_model_module_version": "1.5.0",
            "_model_name": "HTMLModel",
            "_view_count": null,
            "_view_module": "@jupyter-widgets/controls",
            "_view_module_version": "1.5.0",
            "_view_name": "HTMLView",
            "description": "",
            "description_tooltip": null,
            "layout": "IPY_MODEL_9a554370edd64f4ab6c39d6f31d2ec77",
            "placeholder": "​",
            "style": "IPY_MODEL_259b1866f02e43e7a3590cf0da39228e",
            "value": "Downloading data: 100%"
          }
        },
        "9c8173f161fd4de5a822076438d5bcae": {
          "model_module": "@jupyter-widgets/controls",
          "model_name": "FloatProgressModel",
          "model_module_version": "1.5.0",
          "state": {
            "_dom_classes": [],
            "_model_module": "@jupyter-widgets/controls",
            "_model_module_version": "1.5.0",
            "_model_name": "FloatProgressModel",
            "_view_count": null,
            "_view_module": "@jupyter-widgets/controls",
            "_view_module_version": "1.5.0",
            "_view_name": "ProgressView",
            "bar_style": "success",
            "description": "",
            "description_tooltip": null,
            "layout": "IPY_MODEL_dcdee4ecc9154304bc46be095d98f00f",
            "max": 68154,
            "min": 0,
            "orientation": "horizontal",
            "style": "IPY_MODEL_044597ce05e74e91b7eafa6bb4d72cd6",
            "value": 68154
          }
        },
        "82deefb988b0439e9065ec4ea8aecad5": {
          "model_module": "@jupyter-widgets/controls",
          "model_name": "HTMLModel",
          "model_module_version": "1.5.0",
          "state": {
            "_dom_classes": [],
            "_model_module": "@jupyter-widgets/controls",
            "_model_module_version": "1.5.0",
            "_model_name": "HTMLModel",
            "_view_count": null,
            "_view_module": "@jupyter-widgets/controls",
            "_view_module_version": "1.5.0",
            "_view_name": "HTMLView",
            "description": "",
            "description_tooltip": null,
            "layout": "IPY_MODEL_33b7acf64dfb4d9aa94b14052b497e2a",
            "placeholder": "​",
            "style": "IPY_MODEL_674713388034481ea6c8a5845c1eeb0a",
            "value": " 68.2k/68.2k [00:00&lt;00:00, 201kB/s]"
          }
        },
        "9fb2929dfb254ef19fcfc715fbd46e0b": {
          "model_module": "@jupyter-widgets/base",
          "model_name": "LayoutModel",
          "model_module_version": "1.2.0",
          "state": {
            "_model_module": "@jupyter-widgets/base",
            "_model_module_version": "1.2.0",
            "_model_name": "LayoutModel",
            "_view_count": null,
            "_view_module": "@jupyter-widgets/base",
            "_view_module_version": "1.2.0",
            "_view_name": "LayoutView",
            "align_content": null,
            "align_items": null,
            "align_self": null,
            "border": null,
            "bottom": null,
            "display": null,
            "flex": null,
            "flex_flow": null,
            "grid_area": null,
            "grid_auto_columns": null,
            "grid_auto_flow": null,
            "grid_auto_rows": null,
            "grid_column": null,
            "grid_gap": null,
            "grid_row": null,
            "grid_template_areas": null,
            "grid_template_columns": null,
            "grid_template_rows": null,
            "height": null,
            "justify_content": null,
            "justify_items": null,
            "left": null,
            "margin": null,
            "max_height": null,
            "max_width": null,
            "min_height": null,
            "min_width": null,
            "object_fit": null,
            "object_position": null,
            "order": null,
            "overflow": null,
            "overflow_x": null,
            "overflow_y": null,
            "padding": null,
            "right": null,
            "top": null,
            "visibility": null,
            "width": null
          }
        },
        "9a554370edd64f4ab6c39d6f31d2ec77": {
          "model_module": "@jupyter-widgets/base",
          "model_name": "LayoutModel",
          "model_module_version": "1.2.0",
          "state": {
            "_model_module": "@jupyter-widgets/base",
            "_model_module_version": "1.2.0",
            "_model_name": "LayoutModel",
            "_view_count": null,
            "_view_module": "@jupyter-widgets/base",
            "_view_module_version": "1.2.0",
            "_view_name": "LayoutView",
            "align_content": null,
            "align_items": null,
            "align_self": null,
            "border": null,
            "bottom": null,
            "display": null,
            "flex": null,
            "flex_flow": null,
            "grid_area": null,
            "grid_auto_columns": null,
            "grid_auto_flow": null,
            "grid_auto_rows": null,
            "grid_column": null,
            "grid_gap": null,
            "grid_row": null,
            "grid_template_areas": null,
            "grid_template_columns": null,
            "grid_template_rows": null,
            "height": null,
            "justify_content": null,
            "justify_items": null,
            "left": null,
            "margin": null,
            "max_height": null,
            "max_width": null,
            "min_height": null,
            "min_width": null,
            "object_fit": null,
            "object_position": null,
            "order": null,
            "overflow": null,
            "overflow_x": null,
            "overflow_y": null,
            "padding": null,
            "right": null,
            "top": null,
            "visibility": null,
            "width": null
          }
        },
        "259b1866f02e43e7a3590cf0da39228e": {
          "model_module": "@jupyter-widgets/controls",
          "model_name": "DescriptionStyleModel",
          "model_module_version": "1.5.0",
          "state": {
            "_model_module": "@jupyter-widgets/controls",
            "_model_module_version": "1.5.0",
            "_model_name": "DescriptionStyleModel",
            "_view_count": null,
            "_view_module": "@jupyter-widgets/base",
            "_view_module_version": "1.2.0",
            "_view_name": "StyleView",
            "description_width": ""
          }
        },
        "dcdee4ecc9154304bc46be095d98f00f": {
          "model_module": "@jupyter-widgets/base",
          "model_name": "LayoutModel",
          "model_module_version": "1.2.0",
          "state": {
            "_model_module": "@jupyter-widgets/base",
            "_model_module_version": "1.2.0",
            "_model_name": "LayoutModel",
            "_view_count": null,
            "_view_module": "@jupyter-widgets/base",
            "_view_module_version": "1.2.0",
            "_view_name": "LayoutView",
            "align_content": null,
            "align_items": null,
            "align_self": null,
            "border": null,
            "bottom": null,
            "display": null,
            "flex": null,
            "flex_flow": null,
            "grid_area": null,
            "grid_auto_columns": null,
            "grid_auto_flow": null,
            "grid_auto_rows": null,
            "grid_column": null,
            "grid_gap": null,
            "grid_row": null,
            "grid_template_areas": null,
            "grid_template_columns": null,
            "grid_template_rows": null,
            "height": null,
            "justify_content": null,
            "justify_items": null,
            "left": null,
            "margin": null,
            "max_height": null,
            "max_width": null,
            "min_height": null,
            "min_width": null,
            "object_fit": null,
            "object_position": null,
            "order": null,
            "overflow": null,
            "overflow_x": null,
            "overflow_y": null,
            "padding": null,
            "right": null,
            "top": null,
            "visibility": null,
            "width": null
          }
        },
        "044597ce05e74e91b7eafa6bb4d72cd6": {
          "model_module": "@jupyter-widgets/controls",
          "model_name": "ProgressStyleModel",
          "model_module_version": "1.5.0",
          "state": {
            "_model_module": "@jupyter-widgets/controls",
            "_model_module_version": "1.5.0",
            "_model_name": "ProgressStyleModel",
            "_view_count": null,
            "_view_module": "@jupyter-widgets/base",
            "_view_module_version": "1.2.0",
            "_view_name": "StyleView",
            "bar_color": null,
            "description_width": ""
          }
        },
        "33b7acf64dfb4d9aa94b14052b497e2a": {
          "model_module": "@jupyter-widgets/base",
          "model_name": "LayoutModel",
          "model_module_version": "1.2.0",
          "state": {
            "_model_module": "@jupyter-widgets/base",
            "_model_module_version": "1.2.0",
            "_model_name": "LayoutModel",
            "_view_count": null,
            "_view_module": "@jupyter-widgets/base",
            "_view_module_version": "1.2.0",
            "_view_name": "LayoutView",
            "align_content": null,
            "align_items": null,
            "align_self": null,
            "border": null,
            "bottom": null,
            "display": null,
            "flex": null,
            "flex_flow": null,
            "grid_area": null,
            "grid_auto_columns": null,
            "grid_auto_flow": null,
            "grid_auto_rows": null,
            "grid_column": null,
            "grid_gap": null,
            "grid_row": null,
            "grid_template_areas": null,
            "grid_template_columns": null,
            "grid_template_rows": null,
            "height": null,
            "justify_content": null,
            "justify_items": null,
            "left": null,
            "margin": null,
            "max_height": null,
            "max_width": null,
            "min_height": null,
            "min_width": null,
            "object_fit": null,
            "object_position": null,
            "order": null,
            "overflow": null,
            "overflow_x": null,
            "overflow_y": null,
            "padding": null,
            "right": null,
            "top": null,
            "visibility": null,
            "width": null
          }
        },
        "674713388034481ea6c8a5845c1eeb0a": {
          "model_module": "@jupyter-widgets/controls",
          "model_name": "DescriptionStyleModel",
          "model_module_version": "1.5.0",
          "state": {
            "_model_module": "@jupyter-widgets/controls",
            "_model_module_version": "1.5.0",
            "_model_name": "DescriptionStyleModel",
            "_view_count": null,
            "_view_module": "@jupyter-widgets/base",
            "_view_module_version": "1.2.0",
            "_view_name": "StyleView",
            "description_width": ""
          }
        },
        "c76c15f093a14f44933abaf591aea237": {
          "model_module": "@jupyter-widgets/controls",
          "model_name": "HBoxModel",
          "model_module_version": "1.5.0",
          "state": {
            "_dom_classes": [],
            "_model_module": "@jupyter-widgets/controls",
            "_model_module_version": "1.5.0",
            "_model_name": "HBoxModel",
            "_view_count": null,
            "_view_module": "@jupyter-widgets/controls",
            "_view_module_version": "1.5.0",
            "_view_name": "HBoxView",
            "box_style": "",
            "children": [
              "IPY_MODEL_a45e27f6f77d44e5ab3fcaf96af3f73a",
              "IPY_MODEL_f6112c21820c4114bb76b9763b9f6337",
              "IPY_MODEL_7f346d259fa542b9a9d73faa85f7e360"
            ],
            "layout": "IPY_MODEL_6bfccdcbad82413585c1f094c52a731e"
          }
        },
        "a45e27f6f77d44e5ab3fcaf96af3f73a": {
          "model_module": "@jupyter-widgets/controls",
          "model_name": "HTMLModel",
          "model_module_version": "1.5.0",
          "state": {
            "_dom_classes": [],
            "_model_module": "@jupyter-widgets/controls",
            "_model_module_version": "1.5.0",
            "_model_name": "HTMLModel",
            "_view_count": null,
            "_view_module": "@jupyter-widgets/controls",
            "_view_module_version": "1.5.0",
            "_view_name": "HTMLView",
            "description": "",
            "description_tooltip": null,
            "layout": "IPY_MODEL_350f4bc1def54a38964d9a8348f0c46b",
            "placeholder": "​",
            "style": "IPY_MODEL_5e7a3aa94b394a748b48eb77dbca865f",
            "value": "Downloading data: 100%"
          }
        },
        "f6112c21820c4114bb76b9763b9f6337": {
          "model_module": "@jupyter-widgets/controls",
          "model_name": "FloatProgressModel",
          "model_module_version": "1.5.0",
          "state": {
            "_dom_classes": [],
            "_model_module": "@jupyter-widgets/controls",
            "_model_module_version": "1.5.0",
            "_model_name": "FloatProgressModel",
            "_view_count": null,
            "_view_module": "@jupyter-widgets/controls",
            "_view_module_version": "1.5.0",
            "_view_name": "ProgressView",
            "bar_style": "success",
            "description": "",
            "description_tooltip": null,
            "layout": "IPY_MODEL_4a16355000fe4883b2f457813d25b3b9",
            "max": 11541,
            "min": 0,
            "orientation": "horizontal",
            "style": "IPY_MODEL_12f8d490745d470c972bbfb839c63772",
            "value": 11541
          }
        },
        "7f346d259fa542b9a9d73faa85f7e360": {
          "model_module": "@jupyter-widgets/controls",
          "model_name": "HTMLModel",
          "model_module_version": "1.5.0",
          "state": {
            "_dom_classes": [],
            "_model_module": "@jupyter-widgets/controls",
            "_model_module_version": "1.5.0",
            "_model_name": "HTMLModel",
            "_view_count": null,
            "_view_module": "@jupyter-widgets/controls",
            "_view_module_version": "1.5.0",
            "_view_name": "HTMLView",
            "description": "",
            "description_tooltip": null,
            "layout": "IPY_MODEL_5bf5ab1fbdc043149f87a689e214b2ac",
            "placeholder": "​",
            "style": "IPY_MODEL_53cdfc8583b54348a4ae5ffe4800e184",
            "value": " 11.5k/11.5k [00:00&lt;00:00, 102kB/s]"
          }
        },
        "6bfccdcbad82413585c1f094c52a731e": {
          "model_module": "@jupyter-widgets/base",
          "model_name": "LayoutModel",
          "model_module_version": "1.2.0",
          "state": {
            "_model_module": "@jupyter-widgets/base",
            "_model_module_version": "1.2.0",
            "_model_name": "LayoutModel",
            "_view_count": null,
            "_view_module": "@jupyter-widgets/base",
            "_view_module_version": "1.2.0",
            "_view_name": "LayoutView",
            "align_content": null,
            "align_items": null,
            "align_self": null,
            "border": null,
            "bottom": null,
            "display": null,
            "flex": null,
            "flex_flow": null,
            "grid_area": null,
            "grid_auto_columns": null,
            "grid_auto_flow": null,
            "grid_auto_rows": null,
            "grid_column": null,
            "grid_gap": null,
            "grid_row": null,
            "grid_template_areas": null,
            "grid_template_columns": null,
            "grid_template_rows": null,
            "height": null,
            "justify_content": null,
            "justify_items": null,
            "left": null,
            "margin": null,
            "max_height": null,
            "max_width": null,
            "min_height": null,
            "min_width": null,
            "object_fit": null,
            "object_position": null,
            "order": null,
            "overflow": null,
            "overflow_x": null,
            "overflow_y": null,
            "padding": null,
            "right": null,
            "top": null,
            "visibility": null,
            "width": null
          }
        },
        "350f4bc1def54a38964d9a8348f0c46b": {
          "model_module": "@jupyter-widgets/base",
          "model_name": "LayoutModel",
          "model_module_version": "1.2.0",
          "state": {
            "_model_module": "@jupyter-widgets/base",
            "_model_module_version": "1.2.0",
            "_model_name": "LayoutModel",
            "_view_count": null,
            "_view_module": "@jupyter-widgets/base",
            "_view_module_version": "1.2.0",
            "_view_name": "LayoutView",
            "align_content": null,
            "align_items": null,
            "align_self": null,
            "border": null,
            "bottom": null,
            "display": null,
            "flex": null,
            "flex_flow": null,
            "grid_area": null,
            "grid_auto_columns": null,
            "grid_auto_flow": null,
            "grid_auto_rows": null,
            "grid_column": null,
            "grid_gap": null,
            "grid_row": null,
            "grid_template_areas": null,
            "grid_template_columns": null,
            "grid_template_rows": null,
            "height": null,
            "justify_content": null,
            "justify_items": null,
            "left": null,
            "margin": null,
            "max_height": null,
            "max_width": null,
            "min_height": null,
            "min_width": null,
            "object_fit": null,
            "object_position": null,
            "order": null,
            "overflow": null,
            "overflow_x": null,
            "overflow_y": null,
            "padding": null,
            "right": null,
            "top": null,
            "visibility": null,
            "width": null
          }
        },
        "5e7a3aa94b394a748b48eb77dbca865f": {
          "model_module": "@jupyter-widgets/controls",
          "model_name": "DescriptionStyleModel",
          "model_module_version": "1.5.0",
          "state": {
            "_model_module": "@jupyter-widgets/controls",
            "_model_module_version": "1.5.0",
            "_model_name": "DescriptionStyleModel",
            "_view_count": null,
            "_view_module": "@jupyter-widgets/base",
            "_view_module_version": "1.2.0",
            "_view_name": "StyleView",
            "description_width": ""
          }
        },
        "4a16355000fe4883b2f457813d25b3b9": {
          "model_module": "@jupyter-widgets/base",
          "model_name": "LayoutModel",
          "model_module_version": "1.2.0",
          "state": {
            "_model_module": "@jupyter-widgets/base",
            "_model_module_version": "1.2.0",
            "_model_name": "LayoutModel",
            "_view_count": null,
            "_view_module": "@jupyter-widgets/base",
            "_view_module_version": "1.2.0",
            "_view_name": "LayoutView",
            "align_content": null,
            "align_items": null,
            "align_self": null,
            "border": null,
            "bottom": null,
            "display": null,
            "flex": null,
            "flex_flow": null,
            "grid_area": null,
            "grid_auto_columns": null,
            "grid_auto_flow": null,
            "grid_auto_rows": null,
            "grid_column": null,
            "grid_gap": null,
            "grid_row": null,
            "grid_template_areas": null,
            "grid_template_columns": null,
            "grid_template_rows": null,
            "height": null,
            "justify_content": null,
            "justify_items": null,
            "left": null,
            "margin": null,
            "max_height": null,
            "max_width": null,
            "min_height": null,
            "min_width": null,
            "object_fit": null,
            "object_position": null,
            "order": null,
            "overflow": null,
            "overflow_x": null,
            "overflow_y": null,
            "padding": null,
            "right": null,
            "top": null,
            "visibility": null,
            "width": null
          }
        },
        "12f8d490745d470c972bbfb839c63772": {
          "model_module": "@jupyter-widgets/controls",
          "model_name": "ProgressStyleModel",
          "model_module_version": "1.5.0",
          "state": {
            "_model_module": "@jupyter-widgets/controls",
            "_model_module_version": "1.5.0",
            "_model_name": "ProgressStyleModel",
            "_view_count": null,
            "_view_module": "@jupyter-widgets/base",
            "_view_module_version": "1.2.0",
            "_view_name": "StyleView",
            "bar_color": null,
            "description_width": ""
          }
        },
        "5bf5ab1fbdc043149f87a689e214b2ac": {
          "model_module": "@jupyter-widgets/base",
          "model_name": "LayoutModel",
          "model_module_version": "1.2.0",
          "state": {
            "_model_module": "@jupyter-widgets/base",
            "_model_module_version": "1.2.0",
            "_model_name": "LayoutModel",
            "_view_count": null,
            "_view_module": "@jupyter-widgets/base",
            "_view_module_version": "1.2.0",
            "_view_name": "LayoutView",
            "align_content": null,
            "align_items": null,
            "align_self": null,
            "border": null,
            "bottom": null,
            "display": null,
            "flex": null,
            "flex_flow": null,
            "grid_area": null,
            "grid_auto_columns": null,
            "grid_auto_flow": null,
            "grid_auto_rows": null,
            "grid_column": null,
            "grid_gap": null,
            "grid_row": null,
            "grid_template_areas": null,
            "grid_template_columns": null,
            "grid_template_rows": null,
            "height": null,
            "justify_content": null,
            "justify_items": null,
            "left": null,
            "margin": null,
            "max_height": null,
            "max_width": null,
            "min_height": null,
            "min_width": null,
            "object_fit": null,
            "object_position": null,
            "order": null,
            "overflow": null,
            "overflow_x": null,
            "overflow_y": null,
            "padding": null,
            "right": null,
            "top": null,
            "visibility": null,
            "width": null
          }
        },
        "53cdfc8583b54348a4ae5ffe4800e184": {
          "model_module": "@jupyter-widgets/controls",
          "model_name": "DescriptionStyleModel",
          "model_module_version": "1.5.0",
          "state": {
            "_model_module": "@jupyter-widgets/controls",
            "_model_module_version": "1.5.0",
            "_model_name": "DescriptionStyleModel",
            "_view_count": null,
            "_view_module": "@jupyter-widgets/base",
            "_view_module_version": "1.2.0",
            "_view_name": "StyleView",
            "description_width": ""
          }
        },
        "2f60c230819b4a2f95c0326b463099e0": {
          "model_module": "@jupyter-widgets/controls",
          "model_name": "HBoxModel",
          "model_module_version": "1.5.0",
          "state": {
            "_dom_classes": [],
            "_model_module": "@jupyter-widgets/controls",
            "_model_module_version": "1.5.0",
            "_model_name": "HBoxModel",
            "_view_count": null,
            "_view_module": "@jupyter-widgets/controls",
            "_view_module_version": "1.5.0",
            "_view_name": "HBoxView",
            "box_style": "",
            "children": [
              "IPY_MODEL_08d05acbc3cc418e8c8e09c0085419eb",
              "IPY_MODEL_d4e80eeb3cf840a3b197ce2653746eed",
              "IPY_MODEL_a2261e420d7e48a299bf5385065aea6d"
            ],
            "layout": "IPY_MODEL_b36a5a57f27443018c64920f61c85704"
          }
        },
        "08d05acbc3cc418e8c8e09c0085419eb": {
          "model_module": "@jupyter-widgets/controls",
          "model_name": "HTMLModel",
          "model_module_version": "1.5.0",
          "state": {
            "_dom_classes": [],
            "_model_module": "@jupyter-widgets/controls",
            "_model_module_version": "1.5.0",
            "_model_name": "HTMLModel",
            "_view_count": null,
            "_view_module": "@jupyter-widgets/controls",
            "_view_module_version": "1.5.0",
            "_view_name": "HTMLView",
            "description": "",
            "description_tooltip": null,
            "layout": "IPY_MODEL_f961a616afb64b15a2fcfd27a98a51c4",
            "placeholder": "​",
            "style": "IPY_MODEL_f882d6bce2214b31a399d798c3a80054",
            "value": "Downloading data: 100%"
          }
        },
        "d4e80eeb3cf840a3b197ce2653746eed": {
          "model_module": "@jupyter-widgets/controls",
          "model_name": "FloatProgressModel",
          "model_module_version": "1.5.0",
          "state": {
            "_dom_classes": [],
            "_model_module": "@jupyter-widgets/controls",
            "_model_module_version": "1.5.0",
            "_model_name": "FloatProgressModel",
            "_view_count": null,
            "_view_module": "@jupyter-widgets/controls",
            "_view_module_version": "1.5.0",
            "_view_name": "ProgressView",
            "bar_style": "success",
            "description": "",
            "description_tooltip": null,
            "layout": "IPY_MODEL_1de32c2d1da445f98aa0e065ded8d75d",
            "max": 15663,
            "min": 0,
            "orientation": "horizontal",
            "style": "IPY_MODEL_b49dd710b45b4fa39cb45884a88aa008",
            "value": 15663
          }
        },
        "a2261e420d7e48a299bf5385065aea6d": {
          "model_module": "@jupyter-widgets/controls",
          "model_name": "HTMLModel",
          "model_module_version": "1.5.0",
          "state": {
            "_dom_classes": [],
            "_model_module": "@jupyter-widgets/controls",
            "_model_module_version": "1.5.0",
            "_model_name": "HTMLModel",
            "_view_count": null,
            "_view_module": "@jupyter-widgets/controls",
            "_view_module_version": "1.5.0",
            "_view_name": "HTMLView",
            "description": "",
            "description_tooltip": null,
            "layout": "IPY_MODEL_ce8fb92b44744ce8a56605801f2f1c84",
            "placeholder": "​",
            "style": "IPY_MODEL_ac4880b8901a4962a65ee6f8565357e7",
            "value": " 15.7k/15.7k [00:00&lt;00:00, 85.2kB/s]"
          }
        },
        "b36a5a57f27443018c64920f61c85704": {
          "model_module": "@jupyter-widgets/base",
          "model_name": "LayoutModel",
          "model_module_version": "1.2.0",
          "state": {
            "_model_module": "@jupyter-widgets/base",
            "_model_module_version": "1.2.0",
            "_model_name": "LayoutModel",
            "_view_count": null,
            "_view_module": "@jupyter-widgets/base",
            "_view_module_version": "1.2.0",
            "_view_name": "LayoutView",
            "align_content": null,
            "align_items": null,
            "align_self": null,
            "border": null,
            "bottom": null,
            "display": null,
            "flex": null,
            "flex_flow": null,
            "grid_area": null,
            "grid_auto_columns": null,
            "grid_auto_flow": null,
            "grid_auto_rows": null,
            "grid_column": null,
            "grid_gap": null,
            "grid_row": null,
            "grid_template_areas": null,
            "grid_template_columns": null,
            "grid_template_rows": null,
            "height": null,
            "justify_content": null,
            "justify_items": null,
            "left": null,
            "margin": null,
            "max_height": null,
            "max_width": null,
            "min_height": null,
            "min_width": null,
            "object_fit": null,
            "object_position": null,
            "order": null,
            "overflow": null,
            "overflow_x": null,
            "overflow_y": null,
            "padding": null,
            "right": null,
            "top": null,
            "visibility": null,
            "width": null
          }
        },
        "f961a616afb64b15a2fcfd27a98a51c4": {
          "model_module": "@jupyter-widgets/base",
          "model_name": "LayoutModel",
          "model_module_version": "1.2.0",
          "state": {
            "_model_module": "@jupyter-widgets/base",
            "_model_module_version": "1.2.0",
            "_model_name": "LayoutModel",
            "_view_count": null,
            "_view_module": "@jupyter-widgets/base",
            "_view_module_version": "1.2.0",
            "_view_name": "LayoutView",
            "align_content": null,
            "align_items": null,
            "align_self": null,
            "border": null,
            "bottom": null,
            "display": null,
            "flex": null,
            "flex_flow": null,
            "grid_area": null,
            "grid_auto_columns": null,
            "grid_auto_flow": null,
            "grid_auto_rows": null,
            "grid_column": null,
            "grid_gap": null,
            "grid_row": null,
            "grid_template_areas": null,
            "grid_template_columns": null,
            "grid_template_rows": null,
            "height": null,
            "justify_content": null,
            "justify_items": null,
            "left": null,
            "margin": null,
            "max_height": null,
            "max_width": null,
            "min_height": null,
            "min_width": null,
            "object_fit": null,
            "object_position": null,
            "order": null,
            "overflow": null,
            "overflow_x": null,
            "overflow_y": null,
            "padding": null,
            "right": null,
            "top": null,
            "visibility": null,
            "width": null
          }
        },
        "f882d6bce2214b31a399d798c3a80054": {
          "model_module": "@jupyter-widgets/controls",
          "model_name": "DescriptionStyleModel",
          "model_module_version": "1.5.0",
          "state": {
            "_model_module": "@jupyter-widgets/controls",
            "_model_module_version": "1.5.0",
            "_model_name": "DescriptionStyleModel",
            "_view_count": null,
            "_view_module": "@jupyter-widgets/base",
            "_view_module_version": "1.2.0",
            "_view_name": "StyleView",
            "description_width": ""
          }
        },
        "1de32c2d1da445f98aa0e065ded8d75d": {
          "model_module": "@jupyter-widgets/base",
          "model_name": "LayoutModel",
          "model_module_version": "1.2.0",
          "state": {
            "_model_module": "@jupyter-widgets/base",
            "_model_module_version": "1.2.0",
            "_model_name": "LayoutModel",
            "_view_count": null,
            "_view_module": "@jupyter-widgets/base",
            "_view_module_version": "1.2.0",
            "_view_name": "LayoutView",
            "align_content": null,
            "align_items": null,
            "align_self": null,
            "border": null,
            "bottom": null,
            "display": null,
            "flex": null,
            "flex_flow": null,
            "grid_area": null,
            "grid_auto_columns": null,
            "grid_auto_flow": null,
            "grid_auto_rows": null,
            "grid_column": null,
            "grid_gap": null,
            "grid_row": null,
            "grid_template_areas": null,
            "grid_template_columns": null,
            "grid_template_rows": null,
            "height": null,
            "justify_content": null,
            "justify_items": null,
            "left": null,
            "margin": null,
            "max_height": null,
            "max_width": null,
            "min_height": null,
            "min_width": null,
            "object_fit": null,
            "object_position": null,
            "order": null,
            "overflow": null,
            "overflow_x": null,
            "overflow_y": null,
            "padding": null,
            "right": null,
            "top": null,
            "visibility": null,
            "width": null
          }
        },
        "b49dd710b45b4fa39cb45884a88aa008": {
          "model_module": "@jupyter-widgets/controls",
          "model_name": "ProgressStyleModel",
          "model_module_version": "1.5.0",
          "state": {
            "_model_module": "@jupyter-widgets/controls",
            "_model_module_version": "1.5.0",
            "_model_name": "ProgressStyleModel",
            "_view_count": null,
            "_view_module": "@jupyter-widgets/base",
            "_view_module_version": "1.2.0",
            "_view_name": "StyleView",
            "bar_color": null,
            "description_width": ""
          }
        },
        "ce8fb92b44744ce8a56605801f2f1c84": {
          "model_module": "@jupyter-widgets/base",
          "model_name": "LayoutModel",
          "model_module_version": "1.2.0",
          "state": {
            "_model_module": "@jupyter-widgets/base",
            "_model_module_version": "1.2.0",
            "_model_name": "LayoutModel",
            "_view_count": null,
            "_view_module": "@jupyter-widgets/base",
            "_view_module_version": "1.2.0",
            "_view_name": "LayoutView",
            "align_content": null,
            "align_items": null,
            "align_self": null,
            "border": null,
            "bottom": null,
            "display": null,
            "flex": null,
            "flex_flow": null,
            "grid_area": null,
            "grid_auto_columns": null,
            "grid_auto_flow": null,
            "grid_auto_rows": null,
            "grid_column": null,
            "grid_gap": null,
            "grid_row": null,
            "grid_template_areas": null,
            "grid_template_columns": null,
            "grid_template_rows": null,
            "height": null,
            "justify_content": null,
            "justify_items": null,
            "left": null,
            "margin": null,
            "max_height": null,
            "max_width": null,
            "min_height": null,
            "min_width": null,
            "object_fit": null,
            "object_position": null,
            "order": null,
            "overflow": null,
            "overflow_x": null,
            "overflow_y": null,
            "padding": null,
            "right": null,
            "top": null,
            "visibility": null,
            "width": null
          }
        },
        "ac4880b8901a4962a65ee6f8565357e7": {
          "model_module": "@jupyter-widgets/controls",
          "model_name": "DescriptionStyleModel",
          "model_module_version": "1.5.0",
          "state": {
            "_model_module": "@jupyter-widgets/controls",
            "_model_module_version": "1.5.0",
            "_model_name": "DescriptionStyleModel",
            "_view_count": null,
            "_view_module": "@jupyter-widgets/base",
            "_view_module_version": "1.2.0",
            "_view_name": "StyleView",
            "description_width": ""
          }
        },
        "16b3c4daf34949d9b852f3c95e59cea1": {
          "model_module": "@jupyter-widgets/controls",
          "model_name": "HBoxModel",
          "model_module_version": "1.5.0",
          "state": {
            "_dom_classes": [],
            "_model_module": "@jupyter-widgets/controls",
            "_model_module_version": "1.5.0",
            "_model_name": "HBoxModel",
            "_view_count": null,
            "_view_module": "@jupyter-widgets/controls",
            "_view_module_version": "1.5.0",
            "_view_name": "HBoxView",
            "box_style": "",
            "children": [
              "IPY_MODEL_d9314640306e45fcb218085169c829ac",
              "IPY_MODEL_5bd65980a9784bf782478df16e1a61c7",
              "IPY_MODEL_b2938d1d663c4162be6c397b0e2bb9c5"
            ],
            "layout": "IPY_MODEL_7a5ffed38bea432abdf7c03deafc663d"
          }
        },
        "d9314640306e45fcb218085169c829ac": {
          "model_module": "@jupyter-widgets/controls",
          "model_name": "HTMLModel",
          "model_module_version": "1.5.0",
          "state": {
            "_dom_classes": [],
            "_model_module": "@jupyter-widgets/controls",
            "_model_module_version": "1.5.0",
            "_model_name": "HTMLModel",
            "_view_count": null,
            "_view_module": "@jupyter-widgets/controls",
            "_view_module_version": "1.5.0",
            "_view_name": "HTMLView",
            "description": "",
            "description_tooltip": null,
            "layout": "IPY_MODEL_8779708861cb40588204c98ea45a0cf3",
            "placeholder": "​",
            "style": "IPY_MODEL_2937b3f5611d4c9d828bfc91a363243d",
            "value": "Generating train split: 100%"
          }
        },
        "5bd65980a9784bf782478df16e1a61c7": {
          "model_module": "@jupyter-widgets/controls",
          "model_name": "FloatProgressModel",
          "model_module_version": "1.5.0",
          "state": {
            "_dom_classes": [],
            "_model_module": "@jupyter-widgets/controls",
            "_model_module_version": "1.5.0",
            "_model_name": "FloatProgressModel",
            "_view_count": null,
            "_view_module": "@jupyter-widgets/controls",
            "_view_module_version": "1.5.0",
            "_view_name": "ProgressView",
            "bar_style": "success",
            "description": "",
            "description_tooltip": null,
            "layout": "IPY_MODEL_3c59d1d347a84637bb63fff75b128f93",
            "max": 1584,
            "min": 0,
            "orientation": "horizontal",
            "style": "IPY_MODEL_40cafd0766644f90ae1392635409281b",
            "value": 1584
          }
        },
        "b2938d1d663c4162be6c397b0e2bb9c5": {
          "model_module": "@jupyter-widgets/controls",
          "model_name": "HTMLModel",
          "model_module_version": "1.5.0",
          "state": {
            "_dom_classes": [],
            "_model_module": "@jupyter-widgets/controls",
            "_model_module_version": "1.5.0",
            "_model_name": "HTMLModel",
            "_view_count": null,
            "_view_module": "@jupyter-widgets/controls",
            "_view_module_version": "1.5.0",
            "_view_name": "HTMLView",
            "description": "",
            "description_tooltip": null,
            "layout": "IPY_MODEL_9380a6ab42d14fcb8489798ef5336c2d",
            "placeholder": "​",
            "style": "IPY_MODEL_6e00bb8b4a714282a3fc21c36adb2772",
            "value": " 1584/1584 [00:00&lt;00:00, 23233.97 examples/s]"
          }
        },
        "7a5ffed38bea432abdf7c03deafc663d": {
          "model_module": "@jupyter-widgets/base",
          "model_name": "LayoutModel",
          "model_module_version": "1.2.0",
          "state": {
            "_model_module": "@jupyter-widgets/base",
            "_model_module_version": "1.2.0",
            "_model_name": "LayoutModel",
            "_view_count": null,
            "_view_module": "@jupyter-widgets/base",
            "_view_module_version": "1.2.0",
            "_view_name": "LayoutView",
            "align_content": null,
            "align_items": null,
            "align_self": null,
            "border": null,
            "bottom": null,
            "display": null,
            "flex": null,
            "flex_flow": null,
            "grid_area": null,
            "grid_auto_columns": null,
            "grid_auto_flow": null,
            "grid_auto_rows": null,
            "grid_column": null,
            "grid_gap": null,
            "grid_row": null,
            "grid_template_areas": null,
            "grid_template_columns": null,
            "grid_template_rows": null,
            "height": null,
            "justify_content": null,
            "justify_items": null,
            "left": null,
            "margin": null,
            "max_height": null,
            "max_width": null,
            "min_height": null,
            "min_width": null,
            "object_fit": null,
            "object_position": null,
            "order": null,
            "overflow": null,
            "overflow_x": null,
            "overflow_y": null,
            "padding": null,
            "right": null,
            "top": null,
            "visibility": null,
            "width": null
          }
        },
        "8779708861cb40588204c98ea45a0cf3": {
          "model_module": "@jupyter-widgets/base",
          "model_name": "LayoutModel",
          "model_module_version": "1.2.0",
          "state": {
            "_model_module": "@jupyter-widgets/base",
            "_model_module_version": "1.2.0",
            "_model_name": "LayoutModel",
            "_view_count": null,
            "_view_module": "@jupyter-widgets/base",
            "_view_module_version": "1.2.0",
            "_view_name": "LayoutView",
            "align_content": null,
            "align_items": null,
            "align_self": null,
            "border": null,
            "bottom": null,
            "display": null,
            "flex": null,
            "flex_flow": null,
            "grid_area": null,
            "grid_auto_columns": null,
            "grid_auto_flow": null,
            "grid_auto_rows": null,
            "grid_column": null,
            "grid_gap": null,
            "grid_row": null,
            "grid_template_areas": null,
            "grid_template_columns": null,
            "grid_template_rows": null,
            "height": null,
            "justify_content": null,
            "justify_items": null,
            "left": null,
            "margin": null,
            "max_height": null,
            "max_width": null,
            "min_height": null,
            "min_width": null,
            "object_fit": null,
            "object_position": null,
            "order": null,
            "overflow": null,
            "overflow_x": null,
            "overflow_y": null,
            "padding": null,
            "right": null,
            "top": null,
            "visibility": null,
            "width": null
          }
        },
        "2937b3f5611d4c9d828bfc91a363243d": {
          "model_module": "@jupyter-widgets/controls",
          "model_name": "DescriptionStyleModel",
          "model_module_version": "1.5.0",
          "state": {
            "_model_module": "@jupyter-widgets/controls",
            "_model_module_version": "1.5.0",
            "_model_name": "DescriptionStyleModel",
            "_view_count": null,
            "_view_module": "@jupyter-widgets/base",
            "_view_module_version": "1.2.0",
            "_view_name": "StyleView",
            "description_width": ""
          }
        },
        "3c59d1d347a84637bb63fff75b128f93": {
          "model_module": "@jupyter-widgets/base",
          "model_name": "LayoutModel",
          "model_module_version": "1.2.0",
          "state": {
            "_model_module": "@jupyter-widgets/base",
            "_model_module_version": "1.2.0",
            "_model_name": "LayoutModel",
            "_view_count": null,
            "_view_module": "@jupyter-widgets/base",
            "_view_module_version": "1.2.0",
            "_view_name": "LayoutView",
            "align_content": null,
            "align_items": null,
            "align_self": null,
            "border": null,
            "bottom": null,
            "display": null,
            "flex": null,
            "flex_flow": null,
            "grid_area": null,
            "grid_auto_columns": null,
            "grid_auto_flow": null,
            "grid_auto_rows": null,
            "grid_column": null,
            "grid_gap": null,
            "grid_row": null,
            "grid_template_areas": null,
            "grid_template_columns": null,
            "grid_template_rows": null,
            "height": null,
            "justify_content": null,
            "justify_items": null,
            "left": null,
            "margin": null,
            "max_height": null,
            "max_width": null,
            "min_height": null,
            "min_width": null,
            "object_fit": null,
            "object_position": null,
            "order": null,
            "overflow": null,
            "overflow_x": null,
            "overflow_y": null,
            "padding": null,
            "right": null,
            "top": null,
            "visibility": null,
            "width": null
          }
        },
        "40cafd0766644f90ae1392635409281b": {
          "model_module": "@jupyter-widgets/controls",
          "model_name": "ProgressStyleModel",
          "model_module_version": "1.5.0",
          "state": {
            "_model_module": "@jupyter-widgets/controls",
            "_model_module_version": "1.5.0",
            "_model_name": "ProgressStyleModel",
            "_view_count": null,
            "_view_module": "@jupyter-widgets/base",
            "_view_module_version": "1.2.0",
            "_view_name": "StyleView",
            "bar_color": null,
            "description_width": ""
          }
        },
        "9380a6ab42d14fcb8489798ef5336c2d": {
          "model_module": "@jupyter-widgets/base",
          "model_name": "LayoutModel",
          "model_module_version": "1.2.0",
          "state": {
            "_model_module": "@jupyter-widgets/base",
            "_model_module_version": "1.2.0",
            "_model_name": "LayoutModel",
            "_view_count": null,
            "_view_module": "@jupyter-widgets/base",
            "_view_module_version": "1.2.0",
            "_view_name": "LayoutView",
            "align_content": null,
            "align_items": null,
            "align_self": null,
            "border": null,
            "bottom": null,
            "display": null,
            "flex": null,
            "flex_flow": null,
            "grid_area": null,
            "grid_auto_columns": null,
            "grid_auto_flow": null,
            "grid_auto_rows": null,
            "grid_column": null,
            "grid_gap": null,
            "grid_row": null,
            "grid_template_areas": null,
            "grid_template_columns": null,
            "grid_template_rows": null,
            "height": null,
            "justify_content": null,
            "justify_items": null,
            "left": null,
            "margin": null,
            "max_height": null,
            "max_width": null,
            "min_height": null,
            "min_width": null,
            "object_fit": null,
            "object_position": null,
            "order": null,
            "overflow": null,
            "overflow_x": null,
            "overflow_y": null,
            "padding": null,
            "right": null,
            "top": null,
            "visibility": null,
            "width": null
          }
        },
        "6e00bb8b4a714282a3fc21c36adb2772": {
          "model_module": "@jupyter-widgets/controls",
          "model_name": "DescriptionStyleModel",
          "model_module_version": "1.5.0",
          "state": {
            "_model_module": "@jupyter-widgets/controls",
            "_model_module_version": "1.5.0",
            "_model_name": "DescriptionStyleModel",
            "_view_count": null,
            "_view_module": "@jupyter-widgets/base",
            "_view_module_version": "1.2.0",
            "_view_name": "StyleView",
            "description_width": ""
          }
        },
        "8aa299f935074fa9b68eee78523de518": {
          "model_module": "@jupyter-widgets/controls",
          "model_name": "HBoxModel",
          "model_module_version": "1.5.0",
          "state": {
            "_dom_classes": [],
            "_model_module": "@jupyter-widgets/controls",
            "_model_module_version": "1.5.0",
            "_model_name": "HBoxModel",
            "_view_count": null,
            "_view_module": "@jupyter-widgets/controls",
            "_view_module_version": "1.5.0",
            "_view_name": "HBoxView",
            "box_style": "",
            "children": [
              "IPY_MODEL_eef56b02e13f4d08bbfc4a293203c190",
              "IPY_MODEL_436f44873fc647a7b49c3933e6f27b23",
              "IPY_MODEL_2e92367403b1448aa7e391e5a3305905"
            ],
            "layout": "IPY_MODEL_4509d313ab1947a1bdd462b87336a3cf"
          }
        },
        "eef56b02e13f4d08bbfc4a293203c190": {
          "model_module": "@jupyter-widgets/controls",
          "model_name": "HTMLModel",
          "model_module_version": "1.5.0",
          "state": {
            "_dom_classes": [],
            "_model_module": "@jupyter-widgets/controls",
            "_model_module_version": "1.5.0",
            "_model_name": "HTMLModel",
            "_view_count": null,
            "_view_module": "@jupyter-widgets/controls",
            "_view_module_version": "1.5.0",
            "_view_name": "HTMLView",
            "description": "",
            "description_tooltip": null,
            "layout": "IPY_MODEL_4e78bb779065414d923da10c34cbc17f",
            "placeholder": "​",
            "style": "IPY_MODEL_165f89dc3706417ea46cbf88fd280f5e",
            "value": "Generating validation split: 100%"
          }
        },
        "436f44873fc647a7b49c3933e6f27b23": {
          "model_module": "@jupyter-widgets/controls",
          "model_name": "FloatProgressModel",
          "model_module_version": "1.5.0",
          "state": {
            "_dom_classes": [],
            "_model_module": "@jupyter-widgets/controls",
            "_model_module_version": "1.5.0",
            "_model_name": "FloatProgressModel",
            "_view_count": null,
            "_view_module": "@jupyter-widgets/controls",
            "_view_module_version": "1.5.0",
            "_view_name": "ProgressView",
            "bar_style": "success",
            "description": "",
            "description_tooltip": null,
            "layout": "IPY_MODEL_0ad4c57d844a48449f47146351edd6ea",
            "max": 212,
            "min": 0,
            "orientation": "horizontal",
            "style": "IPY_MODEL_63c76ec37cd840eeb676c411eb9bd352",
            "value": 212
          }
        },
        "2e92367403b1448aa7e391e5a3305905": {
          "model_module": "@jupyter-widgets/controls",
          "model_name": "HTMLModel",
          "model_module_version": "1.5.0",
          "state": {
            "_dom_classes": [],
            "_model_module": "@jupyter-widgets/controls",
            "_model_module_version": "1.5.0",
            "_model_name": "HTMLModel",
            "_view_count": null,
            "_view_module": "@jupyter-widgets/controls",
            "_view_module_version": "1.5.0",
            "_view_name": "HTMLView",
            "description": "",
            "description_tooltip": null,
            "layout": "IPY_MODEL_9b5d9ee80e2f4d8488db9a8a8ab1a4ee",
            "placeholder": "​",
            "style": "IPY_MODEL_d872be9774804f3bac01e9a1cd2a3f48",
            "value": " 212/212 [00:00&lt;00:00, 5575.50 examples/s]"
          }
        },
        "4509d313ab1947a1bdd462b87336a3cf": {
          "model_module": "@jupyter-widgets/base",
          "model_name": "LayoutModel",
          "model_module_version": "1.2.0",
          "state": {
            "_model_module": "@jupyter-widgets/base",
            "_model_module_version": "1.2.0",
            "_model_name": "LayoutModel",
            "_view_count": null,
            "_view_module": "@jupyter-widgets/base",
            "_view_module_version": "1.2.0",
            "_view_name": "LayoutView",
            "align_content": null,
            "align_items": null,
            "align_self": null,
            "border": null,
            "bottom": null,
            "display": null,
            "flex": null,
            "flex_flow": null,
            "grid_area": null,
            "grid_auto_columns": null,
            "grid_auto_flow": null,
            "grid_auto_rows": null,
            "grid_column": null,
            "grid_gap": null,
            "grid_row": null,
            "grid_template_areas": null,
            "grid_template_columns": null,
            "grid_template_rows": null,
            "height": null,
            "justify_content": null,
            "justify_items": null,
            "left": null,
            "margin": null,
            "max_height": null,
            "max_width": null,
            "min_height": null,
            "min_width": null,
            "object_fit": null,
            "object_position": null,
            "order": null,
            "overflow": null,
            "overflow_x": null,
            "overflow_y": null,
            "padding": null,
            "right": null,
            "top": null,
            "visibility": null,
            "width": null
          }
        },
        "4e78bb779065414d923da10c34cbc17f": {
          "model_module": "@jupyter-widgets/base",
          "model_name": "LayoutModel",
          "model_module_version": "1.2.0",
          "state": {
            "_model_module": "@jupyter-widgets/base",
            "_model_module_version": "1.2.0",
            "_model_name": "LayoutModel",
            "_view_count": null,
            "_view_module": "@jupyter-widgets/base",
            "_view_module_version": "1.2.0",
            "_view_name": "LayoutView",
            "align_content": null,
            "align_items": null,
            "align_self": null,
            "border": null,
            "bottom": null,
            "display": null,
            "flex": null,
            "flex_flow": null,
            "grid_area": null,
            "grid_auto_columns": null,
            "grid_auto_flow": null,
            "grid_auto_rows": null,
            "grid_column": null,
            "grid_gap": null,
            "grid_row": null,
            "grid_template_areas": null,
            "grid_template_columns": null,
            "grid_template_rows": null,
            "height": null,
            "justify_content": null,
            "justify_items": null,
            "left": null,
            "margin": null,
            "max_height": null,
            "max_width": null,
            "min_height": null,
            "min_width": null,
            "object_fit": null,
            "object_position": null,
            "order": null,
            "overflow": null,
            "overflow_x": null,
            "overflow_y": null,
            "padding": null,
            "right": null,
            "top": null,
            "visibility": null,
            "width": null
          }
        },
        "165f89dc3706417ea46cbf88fd280f5e": {
          "model_module": "@jupyter-widgets/controls",
          "model_name": "DescriptionStyleModel",
          "model_module_version": "1.5.0",
          "state": {
            "_model_module": "@jupyter-widgets/controls",
            "_model_module_version": "1.5.0",
            "_model_name": "DescriptionStyleModel",
            "_view_count": null,
            "_view_module": "@jupyter-widgets/base",
            "_view_module_version": "1.2.0",
            "_view_name": "StyleView",
            "description_width": ""
          }
        },
        "0ad4c57d844a48449f47146351edd6ea": {
          "model_module": "@jupyter-widgets/base",
          "model_name": "LayoutModel",
          "model_module_version": "1.2.0",
          "state": {
            "_model_module": "@jupyter-widgets/base",
            "_model_module_version": "1.2.0",
            "_model_name": "LayoutModel",
            "_view_count": null,
            "_view_module": "@jupyter-widgets/base",
            "_view_module_version": "1.2.0",
            "_view_name": "LayoutView",
            "align_content": null,
            "align_items": null,
            "align_self": null,
            "border": null,
            "bottom": null,
            "display": null,
            "flex": null,
            "flex_flow": null,
            "grid_area": null,
            "grid_auto_columns": null,
            "grid_auto_flow": null,
            "grid_auto_rows": null,
            "grid_column": null,
            "grid_gap": null,
            "grid_row": null,
            "grid_template_areas": null,
            "grid_template_columns": null,
            "grid_template_rows": null,
            "height": null,
            "justify_content": null,
            "justify_items": null,
            "left": null,
            "margin": null,
            "max_height": null,
            "max_width": null,
            "min_height": null,
            "min_width": null,
            "object_fit": null,
            "object_position": null,
            "order": null,
            "overflow": null,
            "overflow_x": null,
            "overflow_y": null,
            "padding": null,
            "right": null,
            "top": null,
            "visibility": null,
            "width": null
          }
        },
        "63c76ec37cd840eeb676c411eb9bd352": {
          "model_module": "@jupyter-widgets/controls",
          "model_name": "ProgressStyleModel",
          "model_module_version": "1.5.0",
          "state": {
            "_model_module": "@jupyter-widgets/controls",
            "_model_module_version": "1.5.0",
            "_model_name": "ProgressStyleModel",
            "_view_count": null,
            "_view_module": "@jupyter-widgets/base",
            "_view_module_version": "1.2.0",
            "_view_name": "StyleView",
            "bar_color": null,
            "description_width": ""
          }
        },
        "9b5d9ee80e2f4d8488db9a8a8ab1a4ee": {
          "model_module": "@jupyter-widgets/base",
          "model_name": "LayoutModel",
          "model_module_version": "1.2.0",
          "state": {
            "_model_module": "@jupyter-widgets/base",
            "_model_module_version": "1.2.0",
            "_model_name": "LayoutModel",
            "_view_count": null,
            "_view_module": "@jupyter-widgets/base",
            "_view_module_version": "1.2.0",
            "_view_name": "LayoutView",
            "align_content": null,
            "align_items": null,
            "align_self": null,
            "border": null,
            "bottom": null,
            "display": null,
            "flex": null,
            "flex_flow": null,
            "grid_area": null,
            "grid_auto_columns": null,
            "grid_auto_flow": null,
            "grid_auto_rows": null,
            "grid_column": null,
            "grid_gap": null,
            "grid_row": null,
            "grid_template_areas": null,
            "grid_template_columns": null,
            "grid_template_rows": null,
            "height": null,
            "justify_content": null,
            "justify_items": null,
            "left": null,
            "margin": null,
            "max_height": null,
            "max_width": null,
            "min_height": null,
            "min_width": null,
            "object_fit": null,
            "object_position": null,
            "order": null,
            "overflow": null,
            "overflow_x": null,
            "overflow_y": null,
            "padding": null,
            "right": null,
            "top": null,
            "visibility": null,
            "width": null
          }
        },
        "d872be9774804f3bac01e9a1cd2a3f48": {
          "model_module": "@jupyter-widgets/controls",
          "model_name": "DescriptionStyleModel",
          "model_module_version": "1.5.0",
          "state": {
            "_model_module": "@jupyter-widgets/controls",
            "_model_module_version": "1.5.0",
            "_model_name": "DescriptionStyleModel",
            "_view_count": null,
            "_view_module": "@jupyter-widgets/base",
            "_view_module_version": "1.2.0",
            "_view_name": "StyleView",
            "description_width": ""
          }
        },
        "afb6a49168e449cb934bcf073f887230": {
          "model_module": "@jupyter-widgets/controls",
          "model_name": "HBoxModel",
          "model_module_version": "1.5.0",
          "state": {
            "_dom_classes": [],
            "_model_module": "@jupyter-widgets/controls",
            "_model_module_version": "1.5.0",
            "_model_name": "HBoxModel",
            "_view_count": null,
            "_view_module": "@jupyter-widgets/controls",
            "_view_module_version": "1.5.0",
            "_view_name": "HBoxView",
            "box_style": "",
            "children": [
              "IPY_MODEL_8d3e42a15b974615abf7716502fb8372",
              "IPY_MODEL_928e590477034f93afa1cf0721834659",
              "IPY_MODEL_b64bef870ee5449e8c202ace1eb7c589"
            ],
            "layout": "IPY_MODEL_758341711a1841f59089510864ecc06c"
          }
        },
        "8d3e42a15b974615abf7716502fb8372": {
          "model_module": "@jupyter-widgets/controls",
          "model_name": "HTMLModel",
          "model_module_version": "1.5.0",
          "state": {
            "_dom_classes": [],
            "_model_module": "@jupyter-widgets/controls",
            "_model_module_version": "1.5.0",
            "_model_name": "HTMLModel",
            "_view_count": null,
            "_view_module": "@jupyter-widgets/controls",
            "_view_module_version": "1.5.0",
            "_view_name": "HTMLView",
            "description": "",
            "description_tooltip": null,
            "layout": "IPY_MODEL_1375dcb01c334f0281368b8e4c35f10e",
            "placeholder": "​",
            "style": "IPY_MODEL_106e9ccdb0874b9ba4c6c2491220762a",
            "value": "Generating test split: 100%"
          }
        },
        "928e590477034f93afa1cf0721834659": {
          "model_module": "@jupyter-widgets/controls",
          "model_name": "FloatProgressModel",
          "model_module_version": "1.5.0",
          "state": {
            "_dom_classes": [],
            "_model_module": "@jupyter-widgets/controls",
            "_model_module_version": "1.5.0",
            "_model_name": "FloatProgressModel",
            "_view_count": null,
            "_view_module": "@jupyter-widgets/controls",
            "_view_module_version": "1.5.0",
            "_view_name": "ProgressView",
            "bar_style": "success",
            "description": "",
            "description_tooltip": null,
            "layout": "IPY_MODEL_7774affff6224cf19b8c28274c479b7a",
            "max": 318,
            "min": 0,
            "orientation": "horizontal",
            "style": "IPY_MODEL_b0ed6dea4bd84c9fba57bcf266e987a0",
            "value": 318
          }
        },
        "b64bef870ee5449e8c202ace1eb7c589": {
          "model_module": "@jupyter-widgets/controls",
          "model_name": "HTMLModel",
          "model_module_version": "1.5.0",
          "state": {
            "_dom_classes": [],
            "_model_module": "@jupyter-widgets/controls",
            "_model_module_version": "1.5.0",
            "_model_name": "HTMLModel",
            "_view_count": null,
            "_view_module": "@jupyter-widgets/controls",
            "_view_module_version": "1.5.0",
            "_view_name": "HTMLView",
            "description": "",
            "description_tooltip": null,
            "layout": "IPY_MODEL_5f5446a6929b45479fffac272dda4521",
            "placeholder": "​",
            "style": "IPY_MODEL_87408edda9bb45c3b0bb03b4da7da190",
            "value": " 318/318 [00:00&lt;00:00, 7847.43 examples/s]"
          }
        },
        "758341711a1841f59089510864ecc06c": {
          "model_module": "@jupyter-widgets/base",
          "model_name": "LayoutModel",
          "model_module_version": "1.2.0",
          "state": {
            "_model_module": "@jupyter-widgets/base",
            "_model_module_version": "1.2.0",
            "_model_name": "LayoutModel",
            "_view_count": null,
            "_view_module": "@jupyter-widgets/base",
            "_view_module_version": "1.2.0",
            "_view_name": "LayoutView",
            "align_content": null,
            "align_items": null,
            "align_self": null,
            "border": null,
            "bottom": null,
            "display": null,
            "flex": null,
            "flex_flow": null,
            "grid_area": null,
            "grid_auto_columns": null,
            "grid_auto_flow": null,
            "grid_auto_rows": null,
            "grid_column": null,
            "grid_gap": null,
            "grid_row": null,
            "grid_template_areas": null,
            "grid_template_columns": null,
            "grid_template_rows": null,
            "height": null,
            "justify_content": null,
            "justify_items": null,
            "left": null,
            "margin": null,
            "max_height": null,
            "max_width": null,
            "min_height": null,
            "min_width": null,
            "object_fit": null,
            "object_position": null,
            "order": null,
            "overflow": null,
            "overflow_x": null,
            "overflow_y": null,
            "padding": null,
            "right": null,
            "top": null,
            "visibility": null,
            "width": null
          }
        },
        "1375dcb01c334f0281368b8e4c35f10e": {
          "model_module": "@jupyter-widgets/base",
          "model_name": "LayoutModel",
          "model_module_version": "1.2.0",
          "state": {
            "_model_module": "@jupyter-widgets/base",
            "_model_module_version": "1.2.0",
            "_model_name": "LayoutModel",
            "_view_count": null,
            "_view_module": "@jupyter-widgets/base",
            "_view_module_version": "1.2.0",
            "_view_name": "LayoutView",
            "align_content": null,
            "align_items": null,
            "align_self": null,
            "border": null,
            "bottom": null,
            "display": null,
            "flex": null,
            "flex_flow": null,
            "grid_area": null,
            "grid_auto_columns": null,
            "grid_auto_flow": null,
            "grid_auto_rows": null,
            "grid_column": null,
            "grid_gap": null,
            "grid_row": null,
            "grid_template_areas": null,
            "grid_template_columns": null,
            "grid_template_rows": null,
            "height": null,
            "justify_content": null,
            "justify_items": null,
            "left": null,
            "margin": null,
            "max_height": null,
            "max_width": null,
            "min_height": null,
            "min_width": null,
            "object_fit": null,
            "object_position": null,
            "order": null,
            "overflow": null,
            "overflow_x": null,
            "overflow_y": null,
            "padding": null,
            "right": null,
            "top": null,
            "visibility": null,
            "width": null
          }
        },
        "106e9ccdb0874b9ba4c6c2491220762a": {
          "model_module": "@jupyter-widgets/controls",
          "model_name": "DescriptionStyleModel",
          "model_module_version": "1.5.0",
          "state": {
            "_model_module": "@jupyter-widgets/controls",
            "_model_module_version": "1.5.0",
            "_model_name": "DescriptionStyleModel",
            "_view_count": null,
            "_view_module": "@jupyter-widgets/base",
            "_view_module_version": "1.2.0",
            "_view_name": "StyleView",
            "description_width": ""
          }
        },
        "7774affff6224cf19b8c28274c479b7a": {
          "model_module": "@jupyter-widgets/base",
          "model_name": "LayoutModel",
          "model_module_version": "1.2.0",
          "state": {
            "_model_module": "@jupyter-widgets/base",
            "_model_module_version": "1.2.0",
            "_model_name": "LayoutModel",
            "_view_count": null,
            "_view_module": "@jupyter-widgets/base",
            "_view_module_version": "1.2.0",
            "_view_name": "LayoutView",
            "align_content": null,
            "align_items": null,
            "align_self": null,
            "border": null,
            "bottom": null,
            "display": null,
            "flex": null,
            "flex_flow": null,
            "grid_area": null,
            "grid_auto_columns": null,
            "grid_auto_flow": null,
            "grid_auto_rows": null,
            "grid_column": null,
            "grid_gap": null,
            "grid_row": null,
            "grid_template_areas": null,
            "grid_template_columns": null,
            "grid_template_rows": null,
            "height": null,
            "justify_content": null,
            "justify_items": null,
            "left": null,
            "margin": null,
            "max_height": null,
            "max_width": null,
            "min_height": null,
            "min_width": null,
            "object_fit": null,
            "object_position": null,
            "order": null,
            "overflow": null,
            "overflow_x": null,
            "overflow_y": null,
            "padding": null,
            "right": null,
            "top": null,
            "visibility": null,
            "width": null
          }
        },
        "b0ed6dea4bd84c9fba57bcf266e987a0": {
          "model_module": "@jupyter-widgets/controls",
          "model_name": "ProgressStyleModel",
          "model_module_version": "1.5.0",
          "state": {
            "_model_module": "@jupyter-widgets/controls",
            "_model_module_version": "1.5.0",
            "_model_name": "ProgressStyleModel",
            "_view_count": null,
            "_view_module": "@jupyter-widgets/base",
            "_view_module_version": "1.2.0",
            "_view_name": "StyleView",
            "bar_color": null,
            "description_width": ""
          }
        },
        "5f5446a6929b45479fffac272dda4521": {
          "model_module": "@jupyter-widgets/base",
          "model_name": "LayoutModel",
          "model_module_version": "1.2.0",
          "state": {
            "_model_module": "@jupyter-widgets/base",
            "_model_module_version": "1.2.0",
            "_model_name": "LayoutModel",
            "_view_count": null,
            "_view_module": "@jupyter-widgets/base",
            "_view_module_version": "1.2.0",
            "_view_name": "LayoutView",
            "align_content": null,
            "align_items": null,
            "align_self": null,
            "border": null,
            "bottom": null,
            "display": null,
            "flex": null,
            "flex_flow": null,
            "grid_area": null,
            "grid_auto_columns": null,
            "grid_auto_flow": null,
            "grid_auto_rows": null,
            "grid_column": null,
            "grid_gap": null,
            "grid_row": null,
            "grid_template_areas": null,
            "grid_template_columns": null,
            "grid_template_rows": null,
            "height": null,
            "justify_content": null,
            "justify_items": null,
            "left": null,
            "margin": null,
            "max_height": null,
            "max_width": null,
            "min_height": null,
            "min_width": null,
            "object_fit": null,
            "object_position": null,
            "order": null,
            "overflow": null,
            "overflow_x": null,
            "overflow_y": null,
            "padding": null,
            "right": null,
            "top": null,
            "visibility": null,
            "width": null
          }
        },
        "87408edda9bb45c3b0bb03b4da7da190": {
          "model_module": "@jupyter-widgets/controls",
          "model_name": "DescriptionStyleModel",
          "model_module_version": "1.5.0",
          "state": {
            "_model_module": "@jupyter-widgets/controls",
            "_model_module_version": "1.5.0",
            "_model_name": "DescriptionStyleModel",
            "_view_count": null,
            "_view_module": "@jupyter-widgets/base",
            "_view_module_version": "1.2.0",
            "_view_name": "StyleView",
            "description_width": ""
          }
        }
      }
    }
  },
  "nbformat": 4,
  "nbformat_minor": 0
}